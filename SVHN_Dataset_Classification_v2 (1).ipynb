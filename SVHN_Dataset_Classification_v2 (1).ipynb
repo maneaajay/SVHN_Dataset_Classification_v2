{
  "nbformat": 4,
  "nbformat_minor": 0,
  "metadata": {
    "colab": {
      "name": "SVHN_Dataset_Classification_v2.ipynb",
      "provenance": [],
      "collapsed_sections": []
    },
    "kernelspec": {
      "name": "python3",
      "display_name": "Python 3"
    },
    "accelerator": "GPU",
    "widgets": {
      "application/vnd.jupyter.widget-state+json": {
        "831e892f43be4174b6bbcbda613d10a3": {
          "model_module": "@jupyter-widgets/controls",
          "model_name": "HBoxModel",
          "model_module_version": "1.5.0",
          "state": {
            "_view_name": "HBoxView",
            "_dom_classes": [],
            "_model_name": "HBoxModel",
            "_view_module": "@jupyter-widgets/controls",
            "_model_module_version": "1.5.0",
            "_view_count": null,
            "_view_module_version": "1.5.0",
            "box_style": "",
            "layout": "IPY_MODEL_dfa7acb6e90445889bf051b6da16fff5",
            "_model_module": "@jupyter-widgets/controls",
            "children": [
              "IPY_MODEL_5ef371fba8ce47428627461c4dbc98fd",
              "IPY_MODEL_f801cfb119974b5ab7d1d8a6b9f62e5e",
              "IPY_MODEL_8b8a1721228443cea0d7ba2e67dc8bc5"
            ]
          }
        },
        "dfa7acb6e90445889bf051b6da16fff5": {
          "model_module": "@jupyter-widgets/base",
          "model_name": "LayoutModel",
          "model_module_version": "1.2.0",
          "state": {
            "_view_name": "LayoutView",
            "grid_template_rows": null,
            "right": null,
            "justify_content": null,
            "_view_module": "@jupyter-widgets/base",
            "overflow": null,
            "_model_module_version": "1.2.0",
            "_view_count": null,
            "flex_flow": null,
            "width": null,
            "min_width": null,
            "border": null,
            "align_items": null,
            "bottom": null,
            "_model_module": "@jupyter-widgets/base",
            "top": null,
            "grid_column": null,
            "overflow_y": null,
            "overflow_x": null,
            "grid_auto_flow": null,
            "grid_area": null,
            "grid_template_columns": null,
            "flex": null,
            "_model_name": "LayoutModel",
            "justify_items": null,
            "grid_row": null,
            "max_height": null,
            "align_content": null,
            "visibility": null,
            "align_self": null,
            "height": null,
            "min_height": null,
            "padding": null,
            "grid_auto_rows": null,
            "grid_gap": null,
            "max_width": null,
            "order": null,
            "_view_module_version": "1.2.0",
            "grid_template_areas": null,
            "object_position": null,
            "object_fit": null,
            "grid_auto_columns": null,
            "margin": null,
            "display": null,
            "left": null
          }
        },
        "5ef371fba8ce47428627461c4dbc98fd": {
          "model_module": "@jupyter-widgets/controls",
          "model_name": "HTMLModel",
          "model_module_version": "1.5.0",
          "state": {
            "_view_name": "HTMLView",
            "style": "IPY_MODEL_d1db29c28c864c88979a146645238666",
            "_dom_classes": [],
            "description": "",
            "_model_name": "HTMLModel",
            "placeholder": "​",
            "_view_module": "@jupyter-widgets/controls",
            "_model_module_version": "1.5.0",
            "value": "",
            "_view_count": null,
            "_view_module_version": "1.5.0",
            "description_tooltip": null,
            "_model_module": "@jupyter-widgets/controls",
            "layout": "IPY_MODEL_cb98bc2cc25e49fab1c522d3070bdaf4"
          }
        },
        "f801cfb119974b5ab7d1d8a6b9f62e5e": {
          "model_module": "@jupyter-widgets/controls",
          "model_name": "FloatProgressModel",
          "model_module_version": "1.5.0",
          "state": {
            "_view_name": "ProgressView",
            "style": "IPY_MODEL_f70607b49e1b4cc9aead9df899b91471",
            "_dom_classes": [],
            "description": "",
            "_model_name": "FloatProgressModel",
            "bar_style": "success",
            "max": 182040794,
            "_view_module": "@jupyter-widgets/controls",
            "_model_module_version": "1.5.0",
            "value": 182040794,
            "_view_count": null,
            "_view_module_version": "1.5.0",
            "orientation": "horizontal",
            "min": 0,
            "description_tooltip": null,
            "_model_module": "@jupyter-widgets/controls",
            "layout": "IPY_MODEL_509eec001b9d4083a03315562836a96b"
          }
        },
        "8b8a1721228443cea0d7ba2e67dc8bc5": {
          "model_module": "@jupyter-widgets/controls",
          "model_name": "HTMLModel",
          "model_module_version": "1.5.0",
          "state": {
            "_view_name": "HTMLView",
            "style": "IPY_MODEL_2844d44a034a4a16ab2f8ec9c743df04",
            "_dom_classes": [],
            "description": "",
            "_model_name": "HTMLModel",
            "placeholder": "​",
            "_view_module": "@jupyter-widgets/controls",
            "_model_module_version": "1.5.0",
            "value": " 182041600/? [00:13&lt;00:00, 18814074.20it/s]",
            "_view_count": null,
            "_view_module_version": "1.5.0",
            "description_tooltip": null,
            "_model_module": "@jupyter-widgets/controls",
            "layout": "IPY_MODEL_6929c0742bc84844a65d40ad26cc44f7"
          }
        },
        "d1db29c28c864c88979a146645238666": {
          "model_module": "@jupyter-widgets/controls",
          "model_name": "DescriptionStyleModel",
          "model_module_version": "1.5.0",
          "state": {
            "_view_name": "StyleView",
            "_model_name": "DescriptionStyleModel",
            "description_width": "",
            "_view_module": "@jupyter-widgets/base",
            "_model_module_version": "1.5.0",
            "_view_count": null,
            "_view_module_version": "1.2.0",
            "_model_module": "@jupyter-widgets/controls"
          }
        },
        "cb98bc2cc25e49fab1c522d3070bdaf4": {
          "model_module": "@jupyter-widgets/base",
          "model_name": "LayoutModel",
          "model_module_version": "1.2.0",
          "state": {
            "_view_name": "LayoutView",
            "grid_template_rows": null,
            "right": null,
            "justify_content": null,
            "_view_module": "@jupyter-widgets/base",
            "overflow": null,
            "_model_module_version": "1.2.0",
            "_view_count": null,
            "flex_flow": null,
            "width": null,
            "min_width": null,
            "border": null,
            "align_items": null,
            "bottom": null,
            "_model_module": "@jupyter-widgets/base",
            "top": null,
            "grid_column": null,
            "overflow_y": null,
            "overflow_x": null,
            "grid_auto_flow": null,
            "grid_area": null,
            "grid_template_columns": null,
            "flex": null,
            "_model_name": "LayoutModel",
            "justify_items": null,
            "grid_row": null,
            "max_height": null,
            "align_content": null,
            "visibility": null,
            "align_self": null,
            "height": null,
            "min_height": null,
            "padding": null,
            "grid_auto_rows": null,
            "grid_gap": null,
            "max_width": null,
            "order": null,
            "_view_module_version": "1.2.0",
            "grid_template_areas": null,
            "object_position": null,
            "object_fit": null,
            "grid_auto_columns": null,
            "margin": null,
            "display": null,
            "left": null
          }
        },
        "f70607b49e1b4cc9aead9df899b91471": {
          "model_module": "@jupyter-widgets/controls",
          "model_name": "ProgressStyleModel",
          "model_module_version": "1.5.0",
          "state": {
            "_view_name": "StyleView",
            "_model_name": "ProgressStyleModel",
            "description_width": "",
            "_view_module": "@jupyter-widgets/base",
            "_model_module_version": "1.5.0",
            "_view_count": null,
            "_view_module_version": "1.2.0",
            "bar_color": null,
            "_model_module": "@jupyter-widgets/controls"
          }
        },
        "509eec001b9d4083a03315562836a96b": {
          "model_module": "@jupyter-widgets/base",
          "model_name": "LayoutModel",
          "model_module_version": "1.2.0",
          "state": {
            "_view_name": "LayoutView",
            "grid_template_rows": null,
            "right": null,
            "justify_content": null,
            "_view_module": "@jupyter-widgets/base",
            "overflow": null,
            "_model_module_version": "1.2.0",
            "_view_count": null,
            "flex_flow": null,
            "width": null,
            "min_width": null,
            "border": null,
            "align_items": null,
            "bottom": null,
            "_model_module": "@jupyter-widgets/base",
            "top": null,
            "grid_column": null,
            "overflow_y": null,
            "overflow_x": null,
            "grid_auto_flow": null,
            "grid_area": null,
            "grid_template_columns": null,
            "flex": null,
            "_model_name": "LayoutModel",
            "justify_items": null,
            "grid_row": null,
            "max_height": null,
            "align_content": null,
            "visibility": null,
            "align_self": null,
            "height": null,
            "min_height": null,
            "padding": null,
            "grid_auto_rows": null,
            "grid_gap": null,
            "max_width": null,
            "order": null,
            "_view_module_version": "1.2.0",
            "grid_template_areas": null,
            "object_position": null,
            "object_fit": null,
            "grid_auto_columns": null,
            "margin": null,
            "display": null,
            "left": null
          }
        },
        "2844d44a034a4a16ab2f8ec9c743df04": {
          "model_module": "@jupyter-widgets/controls",
          "model_name": "DescriptionStyleModel",
          "model_module_version": "1.5.0",
          "state": {
            "_view_name": "StyleView",
            "_model_name": "DescriptionStyleModel",
            "description_width": "",
            "_view_module": "@jupyter-widgets/base",
            "_model_module_version": "1.5.0",
            "_view_count": null,
            "_view_module_version": "1.2.0",
            "_model_module": "@jupyter-widgets/controls"
          }
        },
        "6929c0742bc84844a65d40ad26cc44f7": {
          "model_module": "@jupyter-widgets/base",
          "model_name": "LayoutModel",
          "model_module_version": "1.2.0",
          "state": {
            "_view_name": "LayoutView",
            "grid_template_rows": null,
            "right": null,
            "justify_content": null,
            "_view_module": "@jupyter-widgets/base",
            "overflow": null,
            "_model_module_version": "1.2.0",
            "_view_count": null,
            "flex_flow": null,
            "width": null,
            "min_width": null,
            "border": null,
            "align_items": null,
            "bottom": null,
            "_model_module": "@jupyter-widgets/base",
            "top": null,
            "grid_column": null,
            "overflow_y": null,
            "overflow_x": null,
            "grid_auto_flow": null,
            "grid_area": null,
            "grid_template_columns": null,
            "flex": null,
            "_model_name": "LayoutModel",
            "justify_items": null,
            "grid_row": null,
            "max_height": null,
            "align_content": null,
            "visibility": null,
            "align_self": null,
            "height": null,
            "min_height": null,
            "padding": null,
            "grid_auto_rows": null,
            "grid_gap": null,
            "max_width": null,
            "order": null,
            "_view_module_version": "1.2.0",
            "grid_template_areas": null,
            "object_position": null,
            "object_fit": null,
            "grid_auto_columns": null,
            "margin": null,
            "display": null,
            "left": null
          }
        },
        "2b83d3ed9f8f410daaf966ec62d90dad": {
          "model_module": "@jupyter-widgets/controls",
          "model_name": "HBoxModel",
          "model_module_version": "1.5.0",
          "state": {
            "_view_name": "HBoxView",
            "_dom_classes": [],
            "_model_name": "HBoxModel",
            "_view_module": "@jupyter-widgets/controls",
            "_model_module_version": "1.5.0",
            "_view_count": null,
            "_view_module_version": "1.5.0",
            "box_style": "",
            "layout": "IPY_MODEL_0a6a74a5a9464111b64b2b1748fd6b92",
            "_model_module": "@jupyter-widgets/controls",
            "children": [
              "IPY_MODEL_698d67e9b96d4ce5ad2639941898d79c",
              "IPY_MODEL_0d852e742a464db6843ca8d0d14dc23c",
              "IPY_MODEL_031b9639145e44eda7e16ae3b41974c9"
            ]
          }
        },
        "0a6a74a5a9464111b64b2b1748fd6b92": {
          "model_module": "@jupyter-widgets/base",
          "model_name": "LayoutModel",
          "model_module_version": "1.2.0",
          "state": {
            "_view_name": "LayoutView",
            "grid_template_rows": null,
            "right": null,
            "justify_content": null,
            "_view_module": "@jupyter-widgets/base",
            "overflow": null,
            "_model_module_version": "1.2.0",
            "_view_count": null,
            "flex_flow": null,
            "width": null,
            "min_width": null,
            "border": null,
            "align_items": null,
            "bottom": null,
            "_model_module": "@jupyter-widgets/base",
            "top": null,
            "grid_column": null,
            "overflow_y": null,
            "overflow_x": null,
            "grid_auto_flow": null,
            "grid_area": null,
            "grid_template_columns": null,
            "flex": null,
            "_model_name": "LayoutModel",
            "justify_items": null,
            "grid_row": null,
            "max_height": null,
            "align_content": null,
            "visibility": null,
            "align_self": null,
            "height": null,
            "min_height": null,
            "padding": null,
            "grid_auto_rows": null,
            "grid_gap": null,
            "max_width": null,
            "order": null,
            "_view_module_version": "1.2.0",
            "grid_template_areas": null,
            "object_position": null,
            "object_fit": null,
            "grid_auto_columns": null,
            "margin": null,
            "display": null,
            "left": null
          }
        },
        "698d67e9b96d4ce5ad2639941898d79c": {
          "model_module": "@jupyter-widgets/controls",
          "model_name": "HTMLModel",
          "model_module_version": "1.5.0",
          "state": {
            "_view_name": "HTMLView",
            "style": "IPY_MODEL_02b038ce06a84350abcdc4b8db521f75",
            "_dom_classes": [],
            "description": "",
            "_model_name": "HTMLModel",
            "placeholder": "​",
            "_view_module": "@jupyter-widgets/controls",
            "_model_module_version": "1.5.0",
            "value": "",
            "_view_count": null,
            "_view_module_version": "1.5.0",
            "description_tooltip": null,
            "_model_module": "@jupyter-widgets/controls",
            "layout": "IPY_MODEL_b0b56edd09a94fd5818f3d92b4b3ccc5"
          }
        },
        "0d852e742a464db6843ca8d0d14dc23c": {
          "model_module": "@jupyter-widgets/controls",
          "model_name": "FloatProgressModel",
          "model_module_version": "1.5.0",
          "state": {
            "_view_name": "ProgressView",
            "style": "IPY_MODEL_296eaa32c03a4d26b32f026c3037d4bc",
            "_dom_classes": [],
            "description": "",
            "_model_name": "FloatProgressModel",
            "bar_style": "success",
            "max": 64275384,
            "_view_module": "@jupyter-widgets/controls",
            "_model_module_version": "1.5.0",
            "value": 64275384,
            "_view_count": null,
            "_view_module_version": "1.5.0",
            "orientation": "horizontal",
            "min": 0,
            "description_tooltip": null,
            "_model_module": "@jupyter-widgets/controls",
            "layout": "IPY_MODEL_ac83eb96cea644aebb205a1567083e5f"
          }
        },
        "031b9639145e44eda7e16ae3b41974c9": {
          "model_module": "@jupyter-widgets/controls",
          "model_name": "HTMLModel",
          "model_module_version": "1.5.0",
          "state": {
            "_view_name": "HTMLView",
            "style": "IPY_MODEL_9a950504f9b442f0a1c58389ddf27966",
            "_dom_classes": [],
            "description": "",
            "_model_name": "HTMLModel",
            "placeholder": "​",
            "_view_module": "@jupyter-widgets/controls",
            "_model_module_version": "1.5.0",
            "value": " 64275456/? [00:04&lt;00:00, 19120188.89it/s]",
            "_view_count": null,
            "_view_module_version": "1.5.0",
            "description_tooltip": null,
            "_model_module": "@jupyter-widgets/controls",
            "layout": "IPY_MODEL_d021691b32f842589a440131b6728269"
          }
        },
        "02b038ce06a84350abcdc4b8db521f75": {
          "model_module": "@jupyter-widgets/controls",
          "model_name": "DescriptionStyleModel",
          "model_module_version": "1.5.0",
          "state": {
            "_view_name": "StyleView",
            "_model_name": "DescriptionStyleModel",
            "description_width": "",
            "_view_module": "@jupyter-widgets/base",
            "_model_module_version": "1.5.0",
            "_view_count": null,
            "_view_module_version": "1.2.0",
            "_model_module": "@jupyter-widgets/controls"
          }
        },
        "b0b56edd09a94fd5818f3d92b4b3ccc5": {
          "model_module": "@jupyter-widgets/base",
          "model_name": "LayoutModel",
          "model_module_version": "1.2.0",
          "state": {
            "_view_name": "LayoutView",
            "grid_template_rows": null,
            "right": null,
            "justify_content": null,
            "_view_module": "@jupyter-widgets/base",
            "overflow": null,
            "_model_module_version": "1.2.0",
            "_view_count": null,
            "flex_flow": null,
            "width": null,
            "min_width": null,
            "border": null,
            "align_items": null,
            "bottom": null,
            "_model_module": "@jupyter-widgets/base",
            "top": null,
            "grid_column": null,
            "overflow_y": null,
            "overflow_x": null,
            "grid_auto_flow": null,
            "grid_area": null,
            "grid_template_columns": null,
            "flex": null,
            "_model_name": "LayoutModel",
            "justify_items": null,
            "grid_row": null,
            "max_height": null,
            "align_content": null,
            "visibility": null,
            "align_self": null,
            "height": null,
            "min_height": null,
            "padding": null,
            "grid_auto_rows": null,
            "grid_gap": null,
            "max_width": null,
            "order": null,
            "_view_module_version": "1.2.0",
            "grid_template_areas": null,
            "object_position": null,
            "object_fit": null,
            "grid_auto_columns": null,
            "margin": null,
            "display": null,
            "left": null
          }
        },
        "296eaa32c03a4d26b32f026c3037d4bc": {
          "model_module": "@jupyter-widgets/controls",
          "model_name": "ProgressStyleModel",
          "model_module_version": "1.5.0",
          "state": {
            "_view_name": "StyleView",
            "_model_name": "ProgressStyleModel",
            "description_width": "",
            "_view_module": "@jupyter-widgets/base",
            "_model_module_version": "1.5.0",
            "_view_count": null,
            "_view_module_version": "1.2.0",
            "bar_color": null,
            "_model_module": "@jupyter-widgets/controls"
          }
        },
        "ac83eb96cea644aebb205a1567083e5f": {
          "model_module": "@jupyter-widgets/base",
          "model_name": "LayoutModel",
          "model_module_version": "1.2.0",
          "state": {
            "_view_name": "LayoutView",
            "grid_template_rows": null,
            "right": null,
            "justify_content": null,
            "_view_module": "@jupyter-widgets/base",
            "overflow": null,
            "_model_module_version": "1.2.0",
            "_view_count": null,
            "flex_flow": null,
            "width": null,
            "min_width": null,
            "border": null,
            "align_items": null,
            "bottom": null,
            "_model_module": "@jupyter-widgets/base",
            "top": null,
            "grid_column": null,
            "overflow_y": null,
            "overflow_x": null,
            "grid_auto_flow": null,
            "grid_area": null,
            "grid_template_columns": null,
            "flex": null,
            "_model_name": "LayoutModel",
            "justify_items": null,
            "grid_row": null,
            "max_height": null,
            "align_content": null,
            "visibility": null,
            "align_self": null,
            "height": null,
            "min_height": null,
            "padding": null,
            "grid_auto_rows": null,
            "grid_gap": null,
            "max_width": null,
            "order": null,
            "_view_module_version": "1.2.0",
            "grid_template_areas": null,
            "object_position": null,
            "object_fit": null,
            "grid_auto_columns": null,
            "margin": null,
            "display": null,
            "left": null
          }
        },
        "9a950504f9b442f0a1c58389ddf27966": {
          "model_module": "@jupyter-widgets/controls",
          "model_name": "DescriptionStyleModel",
          "model_module_version": "1.5.0",
          "state": {
            "_view_name": "StyleView",
            "_model_name": "DescriptionStyleModel",
            "description_width": "",
            "_view_module": "@jupyter-widgets/base",
            "_model_module_version": "1.5.0",
            "_view_count": null,
            "_view_module_version": "1.2.0",
            "_model_module": "@jupyter-widgets/controls"
          }
        },
        "d021691b32f842589a440131b6728269": {
          "model_module": "@jupyter-widgets/base",
          "model_name": "LayoutModel",
          "model_module_version": "1.2.0",
          "state": {
            "_view_name": "LayoutView",
            "grid_template_rows": null,
            "right": null,
            "justify_content": null,
            "_view_module": "@jupyter-widgets/base",
            "overflow": null,
            "_model_module_version": "1.2.0",
            "_view_count": null,
            "flex_flow": null,
            "width": null,
            "min_width": null,
            "border": null,
            "align_items": null,
            "bottom": null,
            "_model_module": "@jupyter-widgets/base",
            "top": null,
            "grid_column": null,
            "overflow_y": null,
            "overflow_x": null,
            "grid_auto_flow": null,
            "grid_area": null,
            "grid_template_columns": null,
            "flex": null,
            "_model_name": "LayoutModel",
            "justify_items": null,
            "grid_row": null,
            "max_height": null,
            "align_content": null,
            "visibility": null,
            "align_self": null,
            "height": null,
            "min_height": null,
            "padding": null,
            "grid_auto_rows": null,
            "grid_gap": null,
            "max_width": null,
            "order": null,
            "_view_module_version": "1.2.0",
            "grid_template_areas": null,
            "object_position": null,
            "object_fit": null,
            "grid_auto_columns": null,
            "margin": null,
            "display": null,
            "left": null
          }
        }
      }
    }
  },
  "cells": [
    {
      "cell_type": "markdown",
      "metadata": {
        "id": "iWUyiGRuX3p2"
      },
      "source": [
        "**TAsk 1**"
      ]
    },
    {
      "cell_type": "code",
      "metadata": {
        "colab": {
          "base_uri": "https://localhost:8080/"
        },
        "id": "VvRoUKPhX5ji",
        "outputId": "1122eeea-7ceb-4130-ed9d-785c1454f85a"
      },
      "source": [
        "a = {1:2, 3:4, 5:6}\n",
        "b = {7:8, 9:10, 11:12}\n",
        "def merge_dictionaries(d1, d2):\n",
        "   return {**a, **b}\n",
        "  \n",
        "# else:\n",
        "def merge_dictionaries(a, b):\n",
        "    c = a.copy()   # make a copy of a \n",
        "    c.update(b)    # modify keys and values of a with the b ones\n",
        "    return c\n",
        "merge_dictionaries(a,b)"
      ],
      "execution_count": null,
      "outputs": [
        {
          "output_type": "execute_result",
          "data": {
            "text/plain": [
              "{1: 2, 3: 4, 5: 6, 7: 8, 9: 10, 11: 12}"
            ]
          },
          "metadata": {},
          "execution_count": 69
        }
      ]
    },
    {
      "cell_type": "code",
      "metadata": {
        "colab": {
          "base_uri": "https://localhost:8080/"
        },
        "id": "e7aZzymQX5vZ",
        "outputId": "72378b2a-0332-4188-8f61-4c91628f97ea"
      },
      "source": [
        "from collections import defaultdict, Iterable\n",
        " \n",
        "dct1 = {1:'a', 2:'b', 'c':3, 'd':None}\n",
        "dct2 = {'c':4, 'k':9, 'd':12}\n",
        " \n",
        " \n",
        "result = defaultdict(list)\n",
        "for dct in [dct1, dct2]:\n",
        "    for k, v in dct.items():\n",
        "        if isinstance(v, Iterable):\n",
        "            result[k].extend(v)\n",
        "        else:\n",
        "            result[k].append(v)\n",
        " \n",
        "print(result)\n",
        "#EXPECTED RESULT = {1'a', 2:'b', 'c':[4, 3], 'd':[None, 12], 'k':9}"
      ],
      "execution_count": null,
      "outputs": [
        {
          "output_type": "stream",
          "text": [
            "defaultdict(<class 'list'>, {1: ['a'], 2: ['b'], 'c': [3, 4], 'd': [None, 12], 'k': [9]})\n"
          ],
          "name": "stdout"
        },
        {
          "output_type": "stream",
          "text": [
            "/usr/local/lib/python3.7/dist-packages/ipykernel_launcher.py:1: DeprecationWarning: Using or importing the ABCs from 'collections' instead of from 'collections.abc' is deprecated since Python 3.3,and in 3.9 it will stop working\n",
            "  \"\"\"Entry point for launching an IPython kernel.\n"
          ],
          "name": "stderr"
        }
      ]
    },
    {
      "cell_type": "code",
      "metadata": {
        "colab": {
          "base_uri": "https://localhost:8080/",
          "height": 214
        },
        "id": "CKA3YLmtX54G",
        "outputId": "0890fdfc-0949-46ae-ef29-af006db35caa"
      },
      "source": [
        "dict1 = {1:'a', 2:['b', 1, 2, 10], 'c': {'k':'v'}}\n",
        "dict2 = {'c':4, 'k':9, 2:12}\n",
        "def merge_dicts(dict1, dict2):\n",
        "    \"\"\" Recursively merges dict2 into dict1 \"\"\"\n",
        "    if not isinstance(dict1, dict) or not isinstance(dict2, dict):\n",
        "        return dict2\n",
        "    for k in dict2:\n",
        "        if k in dict1:\n",
        "            dict1[k] = merge_dicts(dict1[k], dict2[k])\n",
        "        else:\n",
        "            dict1[k] = dict2[k]\n",
        "    return dict1\n",
        "\n",
        "print(merge_dicts(dict1))\n",
        "print(merge_dicts(dict2))"
      ],
      "execution_count": null,
      "outputs": [
        {
          "output_type": "error",
          "ename": "TypeError",
          "evalue": "ignored",
          "traceback": [
            "\u001b[0;31m---------------------------------------------------------------------------\u001b[0m",
            "\u001b[0;31mTypeError\u001b[0m                                 Traceback (most recent call last)",
            "\u001b[0;32m<ipython-input-88-56aeeec0242d>\u001b[0m in \u001b[0;36m<module>\u001b[0;34m()\u001b[0m\n\u001b[1;32m     12\u001b[0m     \u001b[0;32mreturn\u001b[0m \u001b[0mdict1\u001b[0m\u001b[0;34m\u001b[0m\u001b[0;34m\u001b[0m\u001b[0m\n\u001b[1;32m     13\u001b[0m \u001b[0;34m\u001b[0m\u001b[0m\n\u001b[0;32m---> 14\u001b[0;31m \u001b[0mprint\u001b[0m\u001b[0;34m(\u001b[0m\u001b[0mmerge_dicts\u001b[0m\u001b[0;34m(\u001b[0m\u001b[0mdict1\u001b[0m\u001b[0;34m)\u001b[0m\u001b[0;34m)\u001b[0m\u001b[0;34m\u001b[0m\u001b[0;34m\u001b[0m\u001b[0m\n\u001b[0m\u001b[1;32m     15\u001b[0m \u001b[0mprint\u001b[0m\u001b[0;34m(\u001b[0m\u001b[0mmerge_dicts\u001b[0m\u001b[0;34m(\u001b[0m\u001b[0mdict2\u001b[0m\u001b[0;34m)\u001b[0m\u001b[0;34m)\u001b[0m\u001b[0;34m\u001b[0m\u001b[0;34m\u001b[0m\u001b[0m\n",
            "\u001b[0;31mTypeError\u001b[0m: merge_dicts() missing 1 required positional argument: 'dict2'"
          ]
        }
      ]
    },
    {
      "cell_type": "markdown",
      "metadata": {
        "id": "4S1G24B6iTF9"
      },
      "source": [
        "# Task2 "
      ]
    },
    {
      "cell_type": "markdown",
      "metadata": {
        "id": "TRx_Ei-vOqLs"
      },
      "source": [
        "SVHN\n",
        "\n",
        "[Google Street View House Number(SVHN) Dataset](http://ufldl.stanford.edu/housenumbers/)\n",
        "\n",
        "Much similar to MNIST(images of cropped digits), but SVHN contains much more labeled data (over 600,000 images) with real world problems of recognizing digits and numbers in *natural scene images*.\n",
        "\n",
        "**Overview:**\n",
        "\n",
        "1) Total 10 Classes, 1 for each digits i.e Label '9' for digit 9 and '10' for digit 0. \n",
        "\n",
        "2) 73,257 digits for training, 26,032 digits for testing.\n",
        "\n",
        "3) Available in two differnet formats\n",
        "Original images with bounding box available for each character (may contain multiple characters in same images).\n",
        "\n",
        "MNIST like 32x32 cropped images having single character in each images.\n",
        "Dataset is obtained from house numbers in Google Street View images.\n",
        "\n",
        "Here we are classifying 32 x 32 cropped images given in format 2"
      ]
    },
    {
      "cell_type": "code",
      "metadata": {
        "id": "74Mu652z9YXj",
        "colab": {
          "base_uri": "https://localhost:8080/"
        },
        "outputId": "5b8e686e-7603-4133-f85d-50f78c2436e4"
      },
      "source": [
        "#Import Required libraries \n",
        "import os\n",
        "import tarfile\n",
        "import torch\n",
        "import numpy as np\n",
        "\n",
        "import torchvision\n",
        "from torchvision.datasets.utils import download_url\n",
        "from torchvision.datasets import ImageFolder\n",
        "from torchvision.transforms import ToTensor\n",
        "import torchvision.transforms as transforms\n",
        "from torchvision import datasets\n",
        "from torch.utils.data import random_split\n",
        "from torch.utils.data.dataloader import DataLoader\n",
        "\n",
        "import torch.nn as nn\n",
        "from torch.nn import AvgPool2d\n",
        "import torch.nn.functional as F\n",
        "\n",
        "import matplotlib.pyplot as plt\n",
        "%matplotlib inline\n",
        "\n",
        "!pip install torchsummary\n",
        "from torchsummary import summary\n",
        "\n",
        "from scipy.io import loadmat"
      ],
      "execution_count": null,
      "outputs": [
        {
          "output_type": "stream",
          "text": [
            "Requirement already satisfied: torchsummary in /usr/local/lib/python3.7/dist-packages (1.5.1)\n"
          ],
          "name": "stdout"
        }
      ]
    },
    {
      "cell_type": "code",
      "metadata": {
        "id": "OV5GebeZGae3",
        "colab": {
          "base_uri": "https://localhost:8080/",
          "height": 203,
          "referenced_widgets": [
            "831e892f43be4174b6bbcbda613d10a3",
            "dfa7acb6e90445889bf051b6da16fff5",
            "5ef371fba8ce47428627461c4dbc98fd",
            "f801cfb119974b5ab7d1d8a6b9f62e5e",
            "8b8a1721228443cea0d7ba2e67dc8bc5",
            "d1db29c28c864c88979a146645238666",
            "cb98bc2cc25e49fab1c522d3070bdaf4",
            "f70607b49e1b4cc9aead9df899b91471",
            "509eec001b9d4083a03315562836a96b",
            "2844d44a034a4a16ab2f8ec9c743df04",
            "6929c0742bc84844a65d40ad26cc44f7",
            "2b83d3ed9f8f410daaf966ec62d90dad",
            "0a6a74a5a9464111b64b2b1748fd6b92",
            "698d67e9b96d4ce5ad2639941898d79c",
            "0d852e742a464db6843ca8d0d14dc23c",
            "031b9639145e44eda7e16ae3b41974c9",
            "02b038ce06a84350abcdc4b8db521f75",
            "b0b56edd09a94fd5818f3d92b4b3ccc5",
            "296eaa32c03a4d26b32f026c3037d4bc",
            "ac83eb96cea644aebb205a1567083e5f",
            "9a950504f9b442f0a1c58389ddf27966",
            "d021691b32f842589a440131b6728269"
          ]
        },
        "outputId": "621a2f6c-9941-4329-f98c-eea724f16012"
      },
      "source": [
        "root='http://ufldl.stanford.edu/housenumbers/'\n",
        "\n",
        "transform = transforms.Compose([\n",
        "                                transforms.CenterCrop((28, 28)),\n",
        "                                transforms.ToTensor(),\n",
        "                                #transforms.Normalize([0.5,],[0.5,])\n",
        "                                transforms.Normalize([0.5,0.5,0.5], [0.5,0.5,0.5])\n",
        "                                ])\n",
        "\n",
        "train = torchvision.datasets.SVHN(root, split='train', transform=transform, target_transform=None, download=True)\n",
        "\n",
        "train_dl = torch.utils.data.DataLoader(train, batch_size=128, shuffle=True)\n",
        "\n",
        "test_vi = torchvision.datasets.SVHN(root, split='test', transform=transforms.ToTensor(),download=True)\n",
        "test_vii = torch.utils.data.DataLoader(test_vi, batch_size=128, shuffle=True)\n",
        "\n",
        "test = torchvision.datasets.SVHN(root, split='test', transform=transform, target_transform=None, download=True)\n",
        "\n",
        "test_dl = torch.utils.data.DataLoader(test, batch_size=128, shuffle=True)\n",
        "\n",
        "images_train, labels_train = next(iter(train_dl))\n",
        "images_test, labels_test = next(iter(test_dl))\n",
        "images_test_vi, labels_test_vi = next(iter(test_vi))\n",
        "\n",
        "print(\"Shape of train inputs: \", images_train.shape, \"; Shape of train labels: \", labels_train.shape)\n",
        "print(\"Shape of test inputs: \",images_test.shape, \"; Shape of test inputs: \", labels_test.shape)\n",
        "print(\"Batch size = 128\")"
      ],
      "execution_count": null,
      "outputs": [
        {
          "output_type": "stream",
          "text": [
            "Downloading http://ufldl.stanford.edu/housenumbers/train_32x32.mat to http://ufldl.stanford.edu/housenumbers/train_32x32.mat\n"
          ],
          "name": "stdout"
        },
        {
          "output_type": "display_data",
          "data": {
            "application/vnd.jupyter.widget-view+json": {
              "model_id": "831e892f43be4174b6bbcbda613d10a3",
              "version_minor": 0,
              "version_major": 2
            },
            "text/plain": [
              "  0%|          | 0/182040794 [00:00<?, ?it/s]"
            ]
          },
          "metadata": {}
        },
        {
          "output_type": "stream",
          "text": [
            "Downloading http://ufldl.stanford.edu/housenumbers/test_32x32.mat to http://ufldl.stanford.edu/housenumbers/test_32x32.mat\n"
          ],
          "name": "stdout"
        },
        {
          "output_type": "display_data",
          "data": {
            "application/vnd.jupyter.widget-view+json": {
              "model_id": "2b83d3ed9f8f410daaf966ec62d90dad",
              "version_minor": 0,
              "version_major": 2
            },
            "text/plain": [
              "  0%|          | 0/64275384 [00:00<?, ?it/s]"
            ]
          },
          "metadata": {}
        },
        {
          "output_type": "stream",
          "text": [
            "Using downloaded and verified file: http://ufldl.stanford.edu/housenumbers/test_32x32.mat\n",
            "Shape of train inputs:  torch.Size([128, 3, 28, 28]) ; Shape of train labels:  torch.Size([128])\n",
            "Shape of test inputs:  torch.Size([128, 3, 28, 28]) ; Shape of test inputs:  torch.Size([128])\n",
            "Batch size = 128\n"
          ],
          "name": "stdout"
        }
      ]
    },
    {
      "cell_type": "code",
      "metadata": {
        "id": "ygSRPCeYJ4i4"
      },
      "source": [
        "def show(image):\n",
        "  ig, axes = plt.subplots()\n",
        "  plt.imshow(image)"
      ],
      "execution_count": null,
      "outputs": []
    },
    {
      "cell_type": "code",
      "metadata": {
        "id": "NVWLxZqpEEir",
        "colab": {
          "base_uri": "https://localhost:8080/",
          "height": 515
        },
        "outputId": "51dd907c-063d-4de6-fec9-1122b9304d30"
      },
      "source": [
        "dataiter = iter(test_vii)\n",
        "images, labels = dataiter.next()\n",
        "for i in range(113,115):\n",
        "  img = images[i]\n",
        "  img = img.numpy().transpose((1, 2, 0))\n",
        "  show(img)"
      ],
      "execution_count": null,
      "outputs": [
        {
          "output_type": "display_data",
          "data": {
            "image/png": "[encoded data removed]",
            "text/plain": [
              "<Figure size 432x288 with 1 Axes>"
            ]
          },
          "metadata": {
            "needs_background": "light"
          }
        },
        {
          "output_type": "display_data",
          "data": {
            "image/png": "[encoded data removed]",
            "text/plain": [
              "<Figure size 432x288 with 1 Axes>"
            ]
          },
          "metadata": {
            "needs_background": "light"
          }
        }
      ]
    },
    {
      "cell_type": "code",
      "metadata": {
        "id": "4IQbVZe5MHYn",
        "colab": {
          "base_uri": "https://localhost:8080/",
          "height": 547
        },
        "outputId": "2b1a7e07-b90d-45e8-d9d0-fceda181fc55"
      },
      "source": [
        "dataiter = iter(test_dl)\n",
        "images, labels = dataiter.next()\n",
        "for i in range(113,115):\n",
        "  img = images[i]\n",
        "  img = img.numpy().transpose((1, 2, 0))\n",
        "  show(img)"
      ],
      "execution_count": null,
      "outputs": [
        {
          "output_type": "stream",
          "text": [
            "Clipping input data to the valid range for imshow with RGB data ([0..1] for floats or [0..255] for integers).\n",
            "Clipping input data to the valid range for imshow with RGB data ([0..1] for floats or [0..255] for integers).\n"
          ],
          "name": "stderr"
        },
        {
          "output_type": "display_data",
          "data": {
            "image/png": "[encoded data removed]",
            "text/plain": [
              "<Figure size 432x288 with 1 Axes>"
            ]
          },
          "metadata": {
            "needs_background": "light"
          }
        },
        {
          "output_type": "display_data",
          "data": {
            "image/png": "[encoded data removed]",
            "text/plain": [
              "<Figure size 432x288 with 1 Axes>"
            ]
          },
          "metadata": {
            "needs_background": "light"
          }
        }
      ]
    },
    {
      "cell_type": "code",
      "metadata": {
        "id": "bsv_2LG3Gtmg",
        "colab": {
          "base_uri": "https://localhost:8080/"
        },
        "outputId": "a3cdab6d-6eac-4650-bcc3-386ee2f37cc0"
      },
      "source": [
        "img, label = train[0]\n",
        "print(img.shape, label)\n",
        "img"
      ],
      "execution_count": null,
      "outputs": [
        {
          "output_type": "stream",
          "text": [
            "torch.Size([3, 28, 28]) 1\n"
          ],
          "name": "stdout"
        },
        {
          "output_type": "execute_result",
          "data": {
            "text/plain": [
              "tensor([[[-0.8745, -0.7647, -0.4980,  ..., -0.7412, -0.8039, -0.8196],\n",
              "         [-0.8196, -0.8196, -0.5373,  ..., -0.6471, -0.5294, -0.6157],\n",
              "         [-0.8275, -0.8588, -0.5922,  ..., -0.4745, -0.3569, -0.4039],\n",
              "         ...,\n",
              "         [-0.3569, -0.4431, -0.8196,  ..., -0.3333, -0.2078, -0.2000],\n",
              "         [-0.3961, -0.4275, -0.6863,  ..., -0.2078, -0.1922, -0.1765],\n",
              "         [-0.3569, -0.3725, -0.5137,  ..., -0.1765, -0.1843, -0.1843]],\n",
              "\n",
              "        [[-0.8667, -0.7490, -0.5137,  ..., -0.8353, -0.7569, -0.7725],\n",
              "         [-0.8588, -0.8039, -0.5451,  ..., -0.6314, -0.5843, -0.6627],\n",
              "         [-0.8353, -0.8353, -0.5608,  ..., -0.4431, -0.4275, -0.4667],\n",
              "         ...,\n",
              "         [-0.4039, -0.4980, -0.8353,  ..., -0.2941, -0.2392, -0.2078],\n",
              "         [-0.3647, -0.4196, -0.7020,  ..., -0.2314, -0.2000, -0.1843],\n",
              "         [-0.3804, -0.3961, -0.5059,  ..., -0.1843, -0.1843, -0.1843]],\n",
              "\n",
              "        [[-0.8196, -0.7647, -0.5765,  ..., -0.6471, -0.6941, -0.6471],\n",
              "         [-0.8039, -0.8118, -0.5922,  ..., -0.6941, -0.6314, -0.6314],\n",
              "         [-0.8275, -0.8196, -0.6314,  ..., -0.5765, -0.5216, -0.5922],\n",
              "         ...,\n",
              "         [-0.4745, -0.4824, -0.7882,  ..., -0.4588, -0.3569, -0.3490],\n",
              "         [-0.5294, -0.4431, -0.6706,  ..., -0.3490, -0.3725, -0.3961],\n",
              "         [-0.4902, -0.4824, -0.5765,  ..., -0.3412, -0.3804, -0.3176]]])"
            ]
          },
          "metadata": {},
          "execution_count": 6
        }
      ]
    },
    {
      "cell_type": "code",
      "metadata": {
        "id": "iUvdjsQPH7mQ"
      },
      "source": [
        "from torchvision.utils import make_grid\n",
        "\n",
        "def show_batch(dl):\n",
        "    for images, labels in dl:\n",
        "        fig, ax = plt.subplots(figsize=(12, 6))\n",
        "        ax.set_xticks([]); ax.set_yticks([])\n",
        "        ax.imshow(make_grid(images, nrow=16).permute(1, 2, 0))\n",
        "        break"
      ],
      "execution_count": null,
      "outputs": []
    },
    {
      "cell_type": "code",
      "metadata": {
        "id": "E2FJgFxQH83d",
        "colab": {
          "base_uri": "https://localhost:8080/",
          "height": 378
        },
        "outputId": "1d81a566-ea88-4930-91a6-26c5e697132b"
      },
      "source": [
        "show_batch(train_dl)"
      ],
      "execution_count": null,
      "outputs": [
        {
          "output_type": "stream",
          "text": [
            "Clipping input data to the valid range for imshow with RGB data ([0..1] for floats or [0..255] for integers).\n"
          ],
          "name": "stderr"
        },
        {
          "output_type": "display_data",
          "data": {
            "image/png": "[encoded data removed]",
            "text/plain": [
              "<Figure size 864x432 with 1 Axes>"
            ]
          },
          "metadata": {}
        }
      ]
    },
    {
      "cell_type": "code",
      "metadata": {
        "id": "cD2uz4h2Q-Vx"
      },
      "source": [
        "def get_default_device():\n",
        "    \"\"\"Pick GPU if available, else CPU\"\"\"\n",
        "    if torch.cuda.is_available():\n",
        "        return torch.device('cuda')\n",
        "    else:\n",
        "        return torch.device('cpu')\n",
        "    \n",
        "def to_device(data, device):\n",
        "    \"\"\"Move tensor(s) to chosen device\"\"\"\n",
        "    if isinstance(data, (list,tuple)):\n",
        "        return [to_device(x, device) for x in data]\n",
        "    return data.to(device, non_blocking=True)\n",
        "\n",
        "class DeviceDataLoader():\n",
        "    \"\"\"Wrap a dataloader to move data to a device\"\"\"\n",
        "    def __init__(self, dl, device):\n",
        "        self.dl = dl\n",
        "        self.device = device\n",
        "        \n",
        "    def __iter__(self):\n",
        "        \"\"\"Yield a batch of data after moving it to device\"\"\"\n",
        "        for b in self.dl: \n",
        "            yield to_device(b, self.device)\n",
        "\n",
        "    def __len__(self):\n",
        "        \"\"\"Number of batches\"\"\"\n",
        "        return len(self.dl)"
      ],
      "execution_count": null,
      "outputs": []
    },
    {
      "cell_type": "code",
      "metadata": {
        "id": "m4wV20BvRDtj",
        "colab": {
          "base_uri": "https://localhost:8080/"
        },
        "outputId": "fe305d69-36e9-4a2d-bbe3-00ef8377d753"
      },
      "source": [
        "device = get_default_device()\n",
        "device"
      ],
      "execution_count": null,
      "outputs": [
        {
          "output_type": "execute_result",
          "data": {
            "text/plain": [
              "device(type='cuda')"
            ]
          },
          "metadata": {},
          "execution_count": 10
        }
      ]
    },
    {
      "cell_type": "code",
      "metadata": {
        "id": "LxPaIMhaQG61"
      },
      "source": [
        "def accuracy(outputs, labels):\n",
        "    _, preds = torch.max(outputs, dim=1)\n",
        "    return torch.tensor(torch.sum(preds == labels).item() / len(preds))"
      ],
      "execution_count": null,
      "outputs": []
    },
    {
      "cell_type": "code",
      "metadata": {
        "id": "kRlorWv5JZPX"
      },
      "source": [
        "class ImageClassificationBase(nn.Module):\n",
        "    def training_step(self, batch):\n",
        "        images, labels = batch \n",
        "        out = self(images)                  # Generate predictions\n",
        "        loss = F.cross_entropy(out, labels) # Calculate loss\n",
        "        return loss\n",
        "    \n",
        "    def validation_step(self, batch):\n",
        "        images, labels = batch \n",
        "        out = self(images)                    # Generate predictions\n",
        "        loss = F.cross_entropy(out, labels)   # Calculate loss\n",
        "        acc = accuracy(out, labels)           # Calculate accuracy\n",
        "        return {'val_loss': loss.detach(), 'val_acc': acc}\n",
        "        \n",
        "    def validation_epoch_end(self, outputs):\n",
        "        batch_losses = [x['val_loss'] for x in outputs]\n",
        "        epoch_loss = torch.stack(batch_losses).mean()   # Combine losses\n",
        "        batch_accs = [x['val_acc'] for x in outputs]\n",
        "        epoch_acc = torch.stack(batch_accs).mean()      # Combine accuracies\n",
        "        return {'val_loss': epoch_loss.item(), 'val_acc': epoch_acc.item()}\n",
        "    \n",
        "    def epoch_end(self, epoch, result):\n",
        "        print(\"Epoch [{}], train_loss: {:.4f}, val_loss: {:.4f}, val_acc: {:.4f}\".format(\n",
        "            epoch, result['train_loss'], result['val_loss'], result['val_acc']))"
      ],
      "execution_count": null,
      "outputs": []
    },
    {
      "cell_type": "code",
      "metadata": {
        "id": "NqJv1CKJUTEm"
      },
      "source": [
        "@torch.no_grad()\n",
        "def evaluate(model, val_loader):\n",
        "    model.eval()\n",
        "    outputs = [model.validation_step(batch) for batch in val_loader]\n",
        "    return model.validation_epoch_end(outputs)\n",
        "\n",
        "def fit(epochs, lr, model, train_loader, val_loader, opt_func=torch.optim.SGD):\n",
        "    history = []\n",
        "    optimizer = opt_func(model.parameters(), lr)\n",
        "    for epoch in range(epochs):\n",
        "        # Training Phase \n",
        "        model.train()\n",
        "        train_losses = []\n",
        "        for batch in train_loader:\n",
        "            loss = model.training_step(batch)\n",
        "            train_losses.append(loss)\n",
        "            loss.backward()\n",
        "            optimizer.step()\n",
        "            optimizer.zero_grad()\n",
        "        # Validation phase\n",
        "        result = evaluate(model, val_loader)\n",
        "        result['train_loss'] = torch.stack(train_losses).mean().item()\n",
        "        model.epoch_end(epoch, result)\n",
        "        history.append(result)\n",
        "    return history"
      ],
      "execution_count": null,
      "outputs": []
    },
    {
      "cell_type": "code",
      "metadata": {
        "id": "xU29du1bVAe5"
      },
      "source": [
        "def plot_accuracies(history):\n",
        "    accuracies = [x['val_acc'] for x in history]\n",
        "    plt.plot(accuracies, '-x')\n",
        "    plt.xlabel('epoch')\n",
        "    plt.ylabel('accuracy')\n",
        "    plt.title('Accuracy vs. No. of epochs');"
      ],
      "execution_count": null,
      "outputs": []
    },
    {
      "cell_type": "code",
      "metadata": {
        "id": "uCbniY4EVHNK"
      },
      "source": [
        "def plot_losses(history):\n",
        "    train_losses = [x.get('train_loss') for x in history]\n",
        "    val_losses = [x['val_loss'] for x in history]\n",
        "    plt.plot(train_losses, '-bx')\n",
        "    plt.plot(val_losses, '-rx')\n",
        "    plt.xlabel('epoch')\n",
        "    plt.ylabel('loss')\n",
        "    plt.legend(['Training', 'Validation'])\n",
        "    plt.title('Loss vs. No. of epochs');"
      ],
      "execution_count": null,
      "outputs": []
    },
    {
      "cell_type": "code",
      "metadata": {
        "id": "cFu27Ygw5si7"
      },
      "source": [
        "num_epochs = 10\n",
        "opt_func = torch.optim.Adam\n",
        "lr = 0.001\n",
        "input_size = 2352\n",
        "num_classes = 10"
      ],
      "execution_count": null,
      "outputs": []
    },
    {
      "cell_type": "markdown",
      "metadata": {
        "id": "sYe62vhezQOZ"
      },
      "source": [
        "## Logistic Regression"
      ]
    },
    {
      "cell_type": "code",
      "metadata": {
        "id": "PGepkxXxWFaF"
      },
      "source": [
        "class LogisticModel(ImageClassificationBase):\n",
        "    def __init__(self):\n",
        "        super().__init__()\n",
        "        self.linear = nn.Linear(input_size, num_classes)\n",
        "        \n",
        "    def forward(self, xb):\n",
        "        xb = xb.reshape(-1, 2352)\n",
        "        out = self.linear(xb)\n",
        "        return out"
      ],
      "execution_count": null,
      "outputs": []
    },
    {
      "cell_type": "code",
      "metadata": {
        "id": "9-aEx7_SW8w_"
      },
      "source": [
        "model1 = LogisticModel()"
      ],
      "execution_count": null,
      "outputs": []
    },
    {
      "cell_type": "code",
      "metadata": {
        "id": "8s3Tn6DtxgYR",
        "colab": {
          "base_uri": "https://localhost:8080/"
        },
        "outputId": "7783e9a0-22e1-4ad0-dce9-75425eb77192"
      },
      "source": [
        "print(sum(p.numel() for p in model1.parameters()))\n",
        "print(sum(p.numel() for p in model1.parameters() if p.requires_grad))"
      ],
      "execution_count": null,
      "outputs": [
        {
          "output_type": "stream",
          "text": [
            "23530\n",
            "23530\n"
          ],
          "name": "stdout"
        }
      ]
    },
    {
      "cell_type": "code",
      "metadata": {
        "id": "Hj72krGeXD4l",
        "colab": {
          "base_uri": "https://localhost:8080/"
        },
        "outputId": "ede215c0-4ca3-496e-afbe-4e04a8a3994b"
      },
      "source": [
        "history1 = evaluate(model1, test_dl)\n",
        "history1"
      ],
      "execution_count": null,
      "outputs": [
        {
          "output_type": "execute_result",
          "data": {
            "text/plain": [
              "{'val_acc': 0.09990297257900238, 'val_loss': 2.333592176437378}"
            ]
          },
          "metadata": {},
          "execution_count": 20
        }
      ]
    },
    {
      "cell_type": "code",
      "metadata": {
        "id": "rRDmUwOvXl9_",
        "colab": {
          "base_uri": "https://localhost:8080/"
        },
        "outputId": "b749ba2c-8e87-46ff-d3fd-958ee1917c7b"
      },
      "source": [
        "%%time\n",
        "history1 = fit(num_epochs, lr, model1, train_dl, test_dl, opt_func)"
      ],
      "execution_count": null,
      "outputs": [
        {
          "output_type": "stream",
          "text": [
            "Epoch [0], train_loss: 2.2333, val_loss: 2.2923, val_acc: 0.2071\n",
            "Epoch [1], train_loss: 2.1968, val_loss: 2.3005, val_acc: 0.2110\n",
            "Epoch [2], train_loss: 2.1838, val_loss: 2.3089, val_acc: 0.1995\n",
            "Epoch [3], train_loss: 2.1775, val_loss: 2.2964, val_acc: 0.2219\n",
            "Epoch [4], train_loss: 2.1742, val_loss: 2.3005, val_acc: 0.2163\n",
            "Epoch [5], train_loss: 2.1683, val_loss: 2.3395, val_acc: 0.2160\n",
            "Epoch [6], train_loss: 2.1662, val_loss: 2.3213, val_acc: 0.2236\n",
            "Epoch [7], train_loss: 2.1668, val_loss: 2.2975, val_acc: 0.2274\n",
            "Epoch [8], train_loss: 2.1643, val_loss: 2.3065, val_acc: 0.2510\n",
            "Epoch [9], train_loss: 2.1645, val_loss: 2.3309, val_acc: 0.2275\n",
            "CPU times: user 4min 45s, sys: 1.07 s, total: 4min 46s\n",
            "Wall time: 4min 46s\n"
          ],
          "name": "stdout"
        }
      ]
    },
    {
      "cell_type": "code",
      "metadata": {
        "id": "0Oo6arngX8hG",
        "colab": {
          "base_uri": "https://localhost:8080/",
          "height": 295
        },
        "outputId": "c6be2356-77c6-465a-ac7a-9f81c8c782ca"
      },
      "source": [
        "plot_accuracies(history1)"
      ],
      "execution_count": null,
      "outputs": [
        {
          "output_type": "display_data",
          "data": {
            "image/png": "[encoded data removed]",
            "text/plain": [
              "<Figure size 432x288 with 1 Axes>"
            ]
          },
          "metadata": {
            "needs_background": "light"
          }
        }
      ]
    },
    {
      "cell_type": "code",
      "metadata": {
        "id": "KcIo6yqRYCtK",
        "colab": {
          "base_uri": "https://localhost:8080/",
          "height": 295
        },
        "outputId": "1b51b1de-c93b-401a-c486-74bfabd33b16"
      },
      "source": [
        "plot_losses(history1)"
      ],
      "execution_count": null,
      "outputs": [
        {
          "output_type": "display_data",
          "data": {
            "image/png": "[encoded data removed]",
            "text/plain": [
              "<Figure size 432x288 with 1 Axes>"
            ]
          },
          "metadata": {
            "needs_background": "light"
          }
        }
      ]
    },
    {
      "cell_type": "code",
      "metadata": {
        "id": "n_5oGY4AxCIu"
      },
      "source": [
        "torch.save(model1.state_dict(), 'svhn_logistic.pth')"
      ],
      "execution_count": null,
      "outputs": []
    },
    {
      "cell_type": "markdown",
      "metadata": {
        "id": "gpm8ESd4zUow"
      },
      "source": [
        "## Feed Forward Neural Network"
      ]
    },
    {
      "cell_type": "code",
      "metadata": {
        "id": "1G1m3rmZ4BAh"
      },
      "source": [
        "train_dl = DeviceDataLoader(train_dl, device)\n",
        "val_dl = DeviceDataLoader(test_dl, device)"
      ],
      "execution_count": null,
      "outputs": []
    },
    {
      "cell_type": "code",
      "metadata": {
        "id": "tc53LyqMQc4h"
      },
      "source": [
        "class FeedFwdModel(ImageClassificationBase):\n",
        "    \"\"\"Feedfoward neural network with 1 hidden layer\"\"\"\n",
        "    def __init__(self, in_size, out_size):\n",
        "        super().__init__()\n",
        "        # hidden layer\n",
        "        self.linear1 = nn.Linear(in_size, 16)\n",
        "        # hidden layer 2\n",
        "        self.linear2 = nn.Linear(16, 32)\n",
        "        # output layer\n",
        "        self.linear3 = nn.Linear(32, out_size)\n",
        "        \n",
        "    def forward(self, xb):\n",
        "        # Flatten the image tensors\n",
        "        out = xb.view(xb.size(0), -1)\n",
        "        # Get intermediate outputs using hidden layer 1\n",
        "        out = self.linear1(out)\n",
        "        # Apply activation function\n",
        "        out = F.relu(out)\n",
        "        # Get intermediate outputs using hidden layer 2\n",
        "        out = self.linear2(out)\n",
        "        # Apply activation function\n",
        "        out = F.relu(out)\n",
        "        # Get predictions using output layer\n",
        "        out = self.linear3(out)\n",
        "        return out"
      ],
      "execution_count": null,
      "outputs": []
    },
    {
      "cell_type": "code",
      "metadata": {
        "id": "wzgWsua-RpaR"
      },
      "source": [
        "model2 = FeedFwdModel(input_size, out_size=num_classes)\n",
        "model2 = to_device(model2, device)"
      ],
      "execution_count": null,
      "outputs": []
    },
    {
      "cell_type": "code",
      "metadata": {
        "id": "4YTO2Q4pyWZT",
        "colab": {
          "base_uri": "https://localhost:8080/"
        },
        "outputId": "ab2ff2e9-b6d5-4ec4-8569-c7062c2812df"
      },
      "source": [
        "summary(model2, input_size=(3, 28, 28))"
      ],
      "execution_count": null,
      "outputs": [
        {
          "output_type": "stream",
          "text": [
            "----------------------------------------------------------------\n",
            "        Layer (type)               Output Shape         Param #\n",
            "================================================================\n",
            "            Linear-1                   [-1, 16]          37,648\n",
            "            Linear-2                   [-1, 32]             544\n",
            "            Linear-3                   [-1, 10]             330\n",
            "================================================================\n",
            "Total params: 38,522\n",
            "Trainable params: 38,522\n",
            "Non-trainable params: 0\n",
            "----------------------------------------------------------------\n",
            "Input size (MB): 0.01\n",
            "Forward/backward pass size (MB): 0.00\n",
            "Params size (MB): 0.15\n",
            "Estimated Total Size (MB): 0.16\n",
            "----------------------------------------------------------------\n"
          ],
          "name": "stdout"
        }
      ]
    },
    {
      "cell_type": "code",
      "metadata": {
        "id": "VFJ1IoKKxqzq",
        "colab": {
          "base_uri": "https://localhost:8080/"
        },
        "outputId": "0342cb54-d718-4158-9b18-10516a130865"
      },
      "source": [
        "print(sum(p.numel() for p in model2.parameters()))\n",
        "print(sum(p.numel() for p in model2.parameters() if p.requires_grad))"
      ],
      "execution_count": null,
      "outputs": [
        {
          "output_type": "stream",
          "text": [
            "38522\n",
            "38522\n"
          ],
          "name": "stdout"
        }
      ]
    },
    {
      "cell_type": "code",
      "metadata": {
        "id": "6ASk8TTZT3B6",
        "colab": {
          "base_uri": "https://localhost:8080/"
        },
        "outputId": "a5e58398-5e2f-44a1-c9f9-a993628b8252"
      },
      "source": [
        "history2 = [evaluate(model2, val_dl)]\n",
        "history2"
      ],
      "execution_count": null,
      "outputs": [
        {
          "output_type": "execute_result",
          "data": {
            "text/plain": [
              "[{'val_acc': 0.15284161269664764, 'val_loss': 2.2940592765808105}]"
            ]
          },
          "metadata": {},
          "execution_count": 30
        }
      ]
    },
    {
      "cell_type": "code",
      "metadata": {
        "id": "5QYrrglsUB_N",
        "colab": {
          "base_uri": "https://localhost:8080/"
        },
        "outputId": "fb73e100-d1d7-4315-8ffe-102bbd9fb86a"
      },
      "source": [
        "%%time\n",
        "history2 = fit(num_epochs, lr, model2, train_dl, val_dl, opt_func)"
      ],
      "execution_count": null,
      "outputs": [
        {
          "output_type": "stream",
          "text": [
            "Epoch [0], train_loss: 1.5895, val_loss: 1.3077, val_acc: 0.5967\n",
            "Epoch [1], train_loss: 1.1188, val_loss: 1.2009, val_acc: 0.6449\n",
            "Epoch [2], train_loss: 1.0410, val_loss: 1.1517, val_acc: 0.6586\n",
            "Epoch [3], train_loss: 0.9983, val_loss: 1.1684, val_acc: 0.6541\n",
            "Epoch [4], train_loss: 0.9684, val_loss: 1.1259, val_acc: 0.6694\n",
            "Epoch [5], train_loss: 0.9451, val_loss: 1.0766, val_acc: 0.6837\n",
            "Epoch [6], train_loss: 0.9217, val_loss: 1.0735, val_acc: 0.6914\n",
            "Epoch [7], train_loss: 0.9081, val_loss: 1.0774, val_acc: 0.6841\n",
            "Epoch [8], train_loss: 0.8925, val_loss: 1.0843, val_acc: 0.6806\n",
            "Epoch [9], train_loss: 0.8786, val_loss: 1.0318, val_acc: 0.7042\n",
            "CPU times: user 4min 52s, sys: 1.46 s, total: 4min 54s\n",
            "Wall time: 4min 53s\n"
          ],
          "name": "stdout"
        }
      ]
    },
    {
      "cell_type": "code",
      "metadata": {
        "id": "YLNKAUipVNUO",
        "colab": {
          "base_uri": "https://localhost:8080/",
          "height": 295
        },
        "outputId": "da6aed43-7dc8-42aa-d4c1-45118ccf3241"
      },
      "source": [
        "plot_accuracies(history2)"
      ],
      "execution_count": null,
      "outputs": [
        {
          "output_type": "display_data",
          "data": {
            "image/png": "[encoded data removed]",
            "text/plain": [
              "<Figure size 432x288 with 1 Axes>"
            ]
          },
          "metadata": {
            "needs_background": "light"
          }
        }
      ]
    },
    {
      "cell_type": "code",
      "metadata": {
        "id": "ZXWTSQyrVOVo",
        "colab": {
          "base_uri": "https://localhost:8080/",
          "height": 295
        },
        "outputId": "d454b932-c222-455f-de31-5ef7df97c2e6"
      },
      "source": [
        "plot_losses(history2)"
      ],
      "execution_count": null,
      "outputs": [
        {
          "output_type": "display_data",
          "data": {
            "image/png": "[encoded data removed]",
            "text/plain": [
              "<Figure size 432x288 with 1 Axes>"
            ]
          },
          "metadata": {
            "needs_background": "light"
          }
        }
      ]
    },
    {
      "cell_type": "code",
      "metadata": {
        "id": "RME5q7Aqw8fC"
      },
      "source": [
        "torch.save(model2.state_dict(), 'svhn_feedfwd.pth')"
      ],
      "execution_count": null,
      "outputs": []
    },
    {
      "cell_type": "markdown",
      "metadata": {
        "id": "_zEBqXDGz26P"
      },
      "source": [
        "## Convolution Neural Net + Feed Forward Net"
      ]
    },
    {
      "cell_type": "code",
      "metadata": {
        "id": "khQgWTQBztoD"
      },
      "source": [
        "class CnnFnnModel(ImageClassificationBase):\n",
        "    def __init__(self):\n",
        "        super().__init__()\n",
        "        self.network = nn.Sequential(\n",
        "            nn.Conv2d(3, 32, kernel_size=3, padding=1),\n",
        "            nn.BatchNorm2d(32),\n",
        "            nn.ReLU(),\n",
        "            nn.Conv2d(32, 64, kernel_size=3, stride=1, padding=1),\n",
        "            nn.BatchNorm2d(64),\n",
        "            nn.ReLU(),\n",
        "            nn.MaxPool2d(2, 2), # output: 64 x 14 x 14\n",
        "            nn.Dropout(p=0.25),\n",
        "\n",
        "            nn.Conv2d(64, 128, kernel_size=3, stride=1, padding=1),\n",
        "            nn.BatchNorm2d(128),\n",
        "            nn.ReLU(),\n",
        "            nn.Conv2d(128, 256, kernel_size=3, stride=1, padding=1),\n",
        "            nn.BatchNorm2d(256),\n",
        "            nn.ReLU(),\n",
        "            nn.MaxPool2d(2, 2), # output: 128 x 7 x 7\n",
        "            nn.Dropout(p=0.25),\n",
        "\n",
        "            nn.Conv2d(256, 512, kernel_size=3, stride=1, padding=1),\n",
        "            nn.BatchNorm2d(512),\n",
        "            nn.ReLU(),\n",
        "            nn.Conv2d(512, 1024, kernel_size=3, stride=1, padding=1),\n",
        "            nn.BatchNorm2d(1024),\n",
        "            nn.ReLU(),\n",
        "            nn.MaxPool2d(2, 2), # output: 1024 x 3 x 3\n",
        "            nn.Dropout(p=0.25),\n",
        "\n",
        "            nn.Flatten(), \n",
        "            nn.Linear(1024*3*3, 1024),\n",
        "            nn.BatchNorm1d(1024),\n",
        "            nn.ReLU(),\n",
        "            nn.Dropout(p=0.25),\n",
        "            nn.Linear(1024, 512),\n",
        "            nn.BatchNorm1d(512),\n",
        "            nn.ReLU(),\n",
        "            #nn.Dropout(p=0.25),\n",
        "            nn.Linear(512, 10))\n",
        "        \n",
        "    def forward(self, xb):\n",
        "        return self.network(xb)"
      ],
      "execution_count": null,
      "outputs": []
    },
    {
      "cell_type": "code",
      "metadata": {
        "id": "wT2PgnKzz9uW",
        "colab": {
          "base_uri": "https://localhost:8080/"
        },
        "outputId": "6d09dd78-2b1b-43b5-aed6-db52eedebb5a"
      },
      "source": [
        "model3 = CnnFnnModel()\n",
        "model3"
      ],
      "execution_count": null,
      "outputs": [
        {
          "output_type": "execute_result",
          "data": {
            "text/plain": [
              "CnnFnnModel(\n",
              "  (network): Sequential(\n",
              "    (0): Conv2d(3, 32, kernel_size=(3, 3), stride=(1, 1), padding=(1, 1))\n",
              "    (1): BatchNorm2d(32, eps=1e-05, momentum=0.1, affine=True, track_running_stats=True)\n",
              "    (2): ReLU()\n",
              "    (3): Conv2d(32, 64, kernel_size=(3, 3), stride=(1, 1), padding=(1, 1))\n",
              "    (4): BatchNorm2d(64, eps=1e-05, momentum=0.1, affine=True, track_running_stats=True)\n",
              "    (5): ReLU()\n",
              "    (6): MaxPool2d(kernel_size=2, stride=2, padding=0, dilation=1, ceil_mode=False)\n",
              "    (7): Dropout(p=0.25, inplace=False)\n",
              "    (8): Conv2d(64, 128, kernel_size=(3, 3), stride=(1, 1), padding=(1, 1))\n",
              "    (9): BatchNorm2d(128, eps=1e-05, momentum=0.1, affine=True, track_running_stats=True)\n",
              "    (10): ReLU()\n",
              "    (11): Conv2d(128, 256, kernel_size=(3, 3), stride=(1, 1), padding=(1, 1))\n",
              "    (12): BatchNorm2d(256, eps=1e-05, momentum=0.1, affine=True, track_running_stats=True)\n",
              "    (13): ReLU()\n",
              "    (14): MaxPool2d(kernel_size=2, stride=2, padding=0, dilation=1, ceil_mode=False)\n",
              "    (15): Dropout(p=0.25, inplace=False)\n",
              "    (16): Conv2d(256, 512, kernel_size=(3, 3), stride=(1, 1), padding=(1, 1))\n",
              "    (17): BatchNorm2d(512, eps=1e-05, momentum=0.1, affine=True, track_running_stats=True)\n",
              "    (18): ReLU()\n",
              "    (19): Conv2d(512, 1024, kernel_size=(3, 3), stride=(1, 1), padding=(1, 1))\n",
              "    (20): BatchNorm2d(1024, eps=1e-05, momentum=0.1, affine=True, track_running_stats=True)\n",
              "    (21): ReLU()\n",
              "    (22): MaxPool2d(kernel_size=2, stride=2, padding=0, dilation=1, ceil_mode=False)\n",
              "    (23): Dropout(p=0.25, inplace=False)\n",
              "    (24): Flatten(start_dim=1, end_dim=-1)\n",
              "    (25): Linear(in_features=9216, out_features=1024, bias=True)\n",
              "    (26): BatchNorm1d(1024, eps=1e-05, momentum=0.1, affine=True, track_running_stats=True)\n",
              "    (27): ReLU()\n",
              "    (28): Dropout(p=0.25, inplace=False)\n",
              "    (29): Linear(in_features=1024, out_features=512, bias=True)\n",
              "    (30): BatchNorm1d(512, eps=1e-05, momentum=0.1, affine=True, track_running_stats=True)\n",
              "    (31): ReLU()\n",
              "    (32): Linear(in_features=512, out_features=10, bias=True)\n",
              "  )\n",
              ")"
            ]
          },
          "metadata": {},
          "execution_count": 36
        }
      ]
    },
    {
      "cell_type": "code",
      "metadata": {
        "id": "WFq08i9h0PAI"
      },
      "source": [
        "model3 = to_device(CnnFnnModel(), device)"
      ],
      "execution_count": null,
      "outputs": []
    },
    {
      "cell_type": "code",
      "metadata": {
        "id": "TQMqNyYh05pf",
        "colab": {
          "base_uri": "https://localhost:8080/"
        },
        "outputId": "1e1a8759-fbaa-4c7e-d4c0-e0f577e5ad63"
      },
      "source": [
        "summary(model3, input_size=(3, 28, 28))"
      ],
      "execution_count": null,
      "outputs": [
        {
          "output_type": "stream",
          "text": [
            "----------------------------------------------------------------\n",
            "        Layer (type)               Output Shape         Param #\n",
            "================================================================\n",
            "            Conv2d-1           [-1, 32, 28, 28]             896\n",
            "       BatchNorm2d-2           [-1, 32, 28, 28]              64\n",
            "              ReLU-3           [-1, 32, 28, 28]               0\n",
            "            Conv2d-4           [-1, 64, 28, 28]          18,496\n",
            "       BatchNorm2d-5           [-1, 64, 28, 28]             128\n",
            "              ReLU-6           [-1, 64, 28, 28]               0\n",
            "         MaxPool2d-7           [-1, 64, 14, 14]               0\n",
            "           Dropout-8           [-1, 64, 14, 14]               0\n",
            "            Conv2d-9          [-1, 128, 14, 14]          73,856\n",
            "      BatchNorm2d-10          [-1, 128, 14, 14]             256\n",
            "             ReLU-11          [-1, 128, 14, 14]               0\n",
            "           Conv2d-12          [-1, 256, 14, 14]         295,168\n",
            "      BatchNorm2d-13          [-1, 256, 14, 14]             512\n",
            "             ReLU-14          [-1, 256, 14, 14]               0\n",
            "        MaxPool2d-15            [-1, 256, 7, 7]               0\n",
            "          Dropout-16            [-1, 256, 7, 7]               0\n",
            "           Conv2d-17            [-1, 512, 7, 7]       1,180,160\n",
            "      BatchNorm2d-18            [-1, 512, 7, 7]           1,024\n",
            "             ReLU-19            [-1, 512, 7, 7]               0\n",
            "           Conv2d-20           [-1, 1024, 7, 7]       4,719,616\n",
            "      BatchNorm2d-21           [-1, 1024, 7, 7]           2,048\n",
            "             ReLU-22           [-1, 1024, 7, 7]               0\n",
            "        MaxPool2d-23           [-1, 1024, 3, 3]               0\n",
            "          Dropout-24           [-1, 1024, 3, 3]               0\n",
            "          Flatten-25                 [-1, 9216]               0\n",
            "           Linear-26                 [-1, 1024]       9,438,208\n",
            "      BatchNorm1d-27                 [-1, 1024]           2,048\n",
            "             ReLU-28                 [-1, 1024]               0\n",
            "          Dropout-29                 [-1, 1024]               0\n",
            "           Linear-30                  [-1, 512]         524,800\n",
            "      BatchNorm1d-31                  [-1, 512]           1,024\n",
            "             ReLU-32                  [-1, 512]               0\n",
            "           Linear-33                   [-1, 10]           5,130\n",
            "================================================================\n",
            "Total params: 16,263,434\n",
            "Trainable params: 16,263,434\n",
            "Non-trainable params: 0\n",
            "----------------------------------------------------------------\n",
            "Input size (MB): 0.01\n",
            "Forward/backward pass size (MB): 5.80\n",
            "Params size (MB): 62.04\n",
            "Estimated Total Size (MB): 67.85\n",
            "----------------------------------------------------------------\n"
          ],
          "name": "stdout"
        },
        {
          "output_type": "stream",
          "text": [
            "/usr/local/lib/python3.7/dist-packages/torch/nn/functional.py:718: UserWarning: Named tensors and all their associated APIs are an experimental feature and subject to change. Please do not use them for anything important until they are released as stable. (Triggered internally at  /pytorch/c10/core/TensorImpl.h:1156.)\n",
            "  return torch.max_pool2d(input, kernel_size, stride, padding, dilation, ceil_mode)\n"
          ],
          "name": "stderr"
        }
      ]
    },
    {
      "cell_type": "code",
      "metadata": {
        "id": "DzikAWnK0Tj7",
        "colab": {
          "base_uri": "https://localhost:8080/"
        },
        "outputId": "b4a94d94-2074-4cb0-d47d-141e7802a08d"
      },
      "source": [
        "print(sum(p.numel() for p in model3.parameters()))\n",
        "print(sum(p.numel() for p in model3.parameters() if p.requires_grad))"
      ],
      "execution_count": null,
      "outputs": [
        {
          "output_type": "stream",
          "text": [
            "16263434\n",
            "16263434\n"
          ],
          "name": "stdout"
        }
      ]
    },
    {
      "cell_type": "code",
      "metadata": {
        "id": "5v8OBFCy0XEL",
        "colab": {
          "base_uri": "https://localhost:8080/"
        },
        "outputId": "6c301ae2-8b12-498f-e1b5-2afb31c7c71b"
      },
      "source": [
        "history3 = evaluate(model3, val_dl)\n",
        "history3"
      ],
      "execution_count": null,
      "outputs": [
        {
          "output_type": "execute_result",
          "data": {
            "text/plain": [
              "{'val_acc': 0.07571231573820114, 'val_loss': 2.298454999923706}"
            ]
          },
          "metadata": {},
          "execution_count": 40
        }
      ]
    },
    {
      "cell_type": "code",
      "metadata": {
        "id": "eU_G5n6k0m8W",
        "colab": {
          "base_uri": "https://localhost:8080/"
        },
        "outputId": "d14e8b58-dd42-436d-f7f7-e6f52494cb30"
      },
      "source": [
        "%%time\n",
        "history3 = fit(num_epochs, lr, model3, train_dl, val_dl, opt_func)"
      ],
      "execution_count": null,
      "outputs": [
        {
          "output_type": "stream",
          "text": [
            "Epoch [0], train_loss: 0.6149, val_loss: 0.2924, val_acc: 0.9105\n",
            "Epoch [1], train_loss: 0.2845, val_loss: 0.2380, val_acc: 0.9300\n",
            "Epoch [2], train_loss: 0.2300, val_loss: 0.2108, val_acc: 0.9393\n",
            "Epoch [3], train_loss: 0.2004, val_loss: 0.2055, val_acc: 0.9415\n",
            "Epoch [4], train_loss: 0.1753, val_loss: 0.2068, val_acc: 0.9404\n",
            "Epoch [5], train_loss: 0.1520, val_loss: 0.2002, val_acc: 0.9440\n",
            "Epoch [6], train_loss: 0.1323, val_loss: 0.1932, val_acc: 0.9464\n",
            "Epoch [7], train_loss: 0.1142, val_loss: 0.1812, val_acc: 0.9523\n",
            "Epoch [8], train_loss: 0.0998, val_loss: 0.2117, val_acc: 0.9450\n",
            "Epoch [9], train_loss: 0.0834, val_loss: 0.2050, val_acc: 0.9480\n",
            "CPU times: user 12min 30s, sys: 1min 9s, total: 13min 39s\n",
            "Wall time: 13min 39s\n"
          ],
          "name": "stdout"
        }
      ]
    },
    {
      "cell_type": "code",
      "metadata": {
        "id": "FJ4D6FT41Dn1",
        "colab": {
          "base_uri": "https://localhost:8080/",
          "height": 295
        },
        "outputId": "a6cbc33c-6f9c-4d73-ecae-b1458f79e455"
      },
      "source": [
        "plot_accuracies(history3)"
      ],
      "execution_count": null,
      "outputs": [
        {
          "output_type": "display_data",
          "data": {
            "image/png": "[encoded data removed]",
            "text/plain": [
              "<Figure size 432x288 with 1 Axes>"
            ]
          },
          "metadata": {
            "needs_background": "light"
          }
        }
      ]
    },
    {
      "cell_type": "code",
      "metadata": {
        "id": "SjfCQM4x1IK8",
        "colab": {
          "base_uri": "https://localhost:8080/",
          "height": 295
        },
        "outputId": "47461166-d307-4cc7-9108-763126ef681a"
      },
      "source": [
        "plot_losses(history3)"
      ],
      "execution_count": null,
      "outputs": [
        {
          "output_type": "display_data",
          "data": {
            "image/png": "[encoded data removed]",
            "text/plain": [
              "<Figure size 432x288 with 1 Axes>"
            ]
          },
          "metadata": {
            "needs_background": "light"
          }
        }
      ]
    },
    {
      "cell_type": "code",
      "metadata": {
        "id": "4IF_jdzV1In1"
      },
      "source": [
        "torch.save(model3.state_dict(), 'svhn_cnnfnn.pth')"
      ],
      "execution_count": null,
      "outputs": []
    },
    {
      "cell_type": "markdown",
      "metadata": {
        "id": "eGKPHq9Oz-Q9"
      },
      "source": [
        "## Convolutional Neural Network"
      ]
    },
    {
      "cell_type": "code",
      "metadata": {
        "id": "6GUz6rnKV_vk"
      },
      "source": [
        "class CnnModel(ImageClassificationBase):\n",
        "    def __init__(self):\n",
        "        super().__init__()\n",
        "        self.network = nn.Sequential(\n",
        "            nn.Conv2d(3, 16, kernel_size=3, padding=1),\n",
        "            nn.BatchNorm2d(16),\n",
        "            nn.ReLU(),\n",
        "            \n",
        "            nn.Conv2d(16, 32, kernel_size=3, stride=1, padding=1),\n",
        "            nn.BatchNorm2d(32),\n",
        "            nn.ReLU(),\n",
        "            nn.Conv2d(32, 64, kernel_size=3, stride=1, padding=1),\n",
        "            #nn.BatchNorm2d(64),\n",
        "            nn.ReLU(),\n",
        "            nn.Conv2d(64, 128, kernel_size=3, stride=1, padding=1),\n",
        "            nn.BatchNorm2d(128),\n",
        "            nn.ReLU(),\n",
        "            nn.Conv2d(128, 256, kernel_size=3, stride=1, padding=1),\n",
        "            #nn.BatchNorm2d(256),\n",
        "            nn.ReLU(),\n",
        "            \n",
        "            nn.Conv2d(256, 16, kernel_size=1, stride=1, padding=0),\n",
        "            nn.MaxPool2d(2, 2), # output: 16 x 14 x 14\n",
        "            nn.Dropout(p=0.25),\n",
        "\n",
        "            nn.Conv2d(16, 32, kernel_size=3, stride=1, padding=0),\n",
        "            #nn.BatchNorm2d(32),\n",
        "            nn.ReLU(),\n",
        "            nn.Conv2d(32, 64, kernel_size=3, stride=1, padding=0),\n",
        "            nn.BatchNorm2d(64),\n",
        "            nn.ReLU(),\n",
        "            nn.Conv2d(64, 128, kernel_size=3, stride=1, padding=0),\n",
        "            #nn.BatchNorm2d(128),\n",
        "            nn.ReLU(),\n",
        "            nn.Conv2d(128, 256, kernel_size=3, stride=1, padding=0),\n",
        "            nn.BatchNorm2d(256),\n",
        "            nn.ReLU(),\n",
        "\n",
        "            nn.Conv2d(256, 10, kernel_size=1, stride=1, padding=1),\n",
        "            #nn.MaxPool2d(2, 2), # output: 10 x 3 x 3\n",
        "\n",
        "            nn.AvgPool2d(kernel_size=6),           \n",
        "            nn.Flatten(),\n",
        "            nn.Softmax())\n",
        "        \n",
        "    def forward(self, xb):\n",
        "        return self.network(xb)"
      ],
      "execution_count": null,
      "outputs": []
    },
    {
      "cell_type": "code",
      "metadata": {
        "id": "uYz1sYQuKBOq",
        "colab": {
          "base_uri": "https://localhost:8080/"
        },
        "outputId": "48e2f327-bfc5-46ef-8439-bee56f956193"
      },
      "source": [
        "model4 = CnnModel()\n",
        "model4"
      ],
      "execution_count": null,
      "outputs": [
        {
          "output_type": "execute_result",
          "data": {
            "text/plain": [
              "CnnModel(\n",
              "  (network): Sequential(\n",
              "    (0): Conv2d(3, 16, kernel_size=(3, 3), stride=(1, 1), padding=(1, 1))\n",
              "    (1): BatchNorm2d(16, eps=1e-05, momentum=0.1, affine=True, track_running_stats=True)\n",
              "    (2): ReLU()\n",
              "    (3): Conv2d(16, 32, kernel_size=(3, 3), stride=(1, 1), padding=(1, 1))\n",
              "    (4): BatchNorm2d(32, eps=1e-05, momentum=0.1, affine=True, track_running_stats=True)\n",
              "    (5): ReLU()\n",
              "    (6): Conv2d(32, 64, kernel_size=(3, 3), stride=(1, 1), padding=(1, 1))\n",
              "    (7): ReLU()\n",
              "    (8): Conv2d(64, 128, kernel_size=(3, 3), stride=(1, 1), padding=(1, 1))\n",
              "    (9): BatchNorm2d(128, eps=1e-05, momentum=0.1, affine=True, track_running_stats=True)\n",
              "    (10): ReLU()\n",
              "    (11): Conv2d(128, 256, kernel_size=(3, 3), stride=(1, 1), padding=(1, 1))\n",
              "    (12): ReLU()\n",
              "    (13): Conv2d(256, 16, kernel_size=(1, 1), stride=(1, 1))\n",
              "    (14): MaxPool2d(kernel_size=2, stride=2, padding=0, dilation=1, ceil_mode=False)\n",
              "    (15): Dropout(p=0.25, inplace=False)\n",
              "    (16): Conv2d(16, 32, kernel_size=(3, 3), stride=(1, 1))\n",
              "    (17): ReLU()\n",
              "    (18): Conv2d(32, 64, kernel_size=(3, 3), stride=(1, 1))\n",
              "    (19): BatchNorm2d(64, eps=1e-05, momentum=0.1, affine=True, track_running_stats=True)\n",
              "    (20): ReLU()\n",
              "    (21): Conv2d(64, 128, kernel_size=(3, 3), stride=(1, 1))\n",
              "    (22): ReLU()\n",
              "    (23): Conv2d(128, 256, kernel_size=(3, 3), stride=(1, 1))\n",
              "    (24): BatchNorm2d(256, eps=1e-05, momentum=0.1, affine=True, track_running_stats=True)\n",
              "    (25): ReLU()\n",
              "    (26): Conv2d(256, 10, kernel_size=(1, 1), stride=(1, 1), padding=(1, 1))\n",
              "    (27): AvgPool2d(kernel_size=6, stride=6, padding=0)\n",
              "    (28): Flatten(start_dim=1, end_dim=-1)\n",
              "    (29): Softmax(dim=None)\n",
              "  )\n",
              ")"
            ]
          },
          "metadata": {},
          "execution_count": 46
        }
      ]
    },
    {
      "cell_type": "code",
      "metadata": {
        "id": "kkXrsEXQKQh9"
      },
      "source": [
        "model4 = to_device(CnnModel(), device)"
      ],
      "execution_count": null,
      "outputs": []
    },
    {
      "cell_type": "code",
      "metadata": {
        "id": "B4jRNIefKXtm",
        "colab": {
          "base_uri": "https://localhost:8080/"
        },
        "outputId": "2e2ef281-e1fd-41aa-d95c-3caddbfc282c"
      },
      "source": [
        "summary(model4, input_size=(3, 28, 28))"
      ],
      "execution_count": null,
      "outputs": [
        {
          "output_type": "stream",
          "text": [
            "----------------------------------------------------------------\n",
            "        Layer (type)               Output Shape         Param #\n",
            "================================================================\n",
            "            Conv2d-1           [-1, 16, 28, 28]             448\n",
            "       BatchNorm2d-2           [-1, 16, 28, 28]              32\n",
            "              ReLU-3           [-1, 16, 28, 28]               0\n",
            "            Conv2d-4           [-1, 32, 28, 28]           4,640\n",
            "       BatchNorm2d-5           [-1, 32, 28, 28]              64\n",
            "              ReLU-6           [-1, 32, 28, 28]               0\n",
            "            Conv2d-7           [-1, 64, 28, 28]          18,496\n",
            "              ReLU-8           [-1, 64, 28, 28]               0\n",
            "            Conv2d-9          [-1, 128, 28, 28]          73,856\n",
            "      BatchNorm2d-10          [-1, 128, 28, 28]             256\n",
            "             ReLU-11          [-1, 128, 28, 28]               0\n",
            "           Conv2d-12          [-1, 256, 28, 28]         295,168\n",
            "             ReLU-13          [-1, 256, 28, 28]               0\n",
            "           Conv2d-14           [-1, 16, 28, 28]           4,112\n",
            "        MaxPool2d-15           [-1, 16, 14, 14]               0\n",
            "          Dropout-16           [-1, 16, 14, 14]               0\n",
            "           Conv2d-17           [-1, 32, 12, 12]           4,640\n",
            "             ReLU-18           [-1, 32, 12, 12]               0\n",
            "           Conv2d-19           [-1, 64, 10, 10]          18,496\n",
            "      BatchNorm2d-20           [-1, 64, 10, 10]             128\n",
            "             ReLU-21           [-1, 64, 10, 10]               0\n",
            "           Conv2d-22            [-1, 128, 8, 8]          73,856\n",
            "             ReLU-23            [-1, 128, 8, 8]               0\n",
            "           Conv2d-24            [-1, 256, 6, 6]         295,168\n",
            "      BatchNorm2d-25            [-1, 256, 6, 6]             512\n",
            "             ReLU-26            [-1, 256, 6, 6]               0\n",
            "           Conv2d-27             [-1, 10, 8, 8]           2,570\n",
            "        AvgPool2d-28             [-1, 10, 1, 1]               0\n",
            "          Flatten-29                   [-1, 10]               0\n",
            "          Softmax-30                   [-1, 10]               0\n",
            "================================================================\n",
            "Total params: 792,442\n",
            "Trainable params: 792,442\n",
            "Non-trainable params: 0\n",
            "----------------------------------------------------------------\n",
            "Input size (MB): 0.01\n",
            "Forward/backward pass size (MB): 7.69\n",
            "Params size (MB): 3.02\n",
            "Estimated Total Size (MB): 10.72\n",
            "----------------------------------------------------------------\n"
          ],
          "name": "stdout"
        },
        {
          "output_type": "stream",
          "text": [
            "/usr/local/lib/python3.7/dist-packages/torch/nn/modules/container.py:139: UserWarning: Implicit dimension choice for softmax has been deprecated. Change the call to include dim=X as an argument.\n",
            "  input = module(input)\n"
          ],
          "name": "stderr"
        }
      ]
    },
    {
      "cell_type": "code",
      "metadata": {
        "id": "6-cH9pzWxzZ5",
        "colab": {
          "base_uri": "https://localhost:8080/"
        },
        "outputId": "8b8383af-5942-4787-e59e-f70bb92996ad"
      },
      "source": [
        "print(sum(p.numel() for p in model4.parameters()))\n",
        "print(sum(p.numel() for p in model4.parameters() if p.requires_grad))"
      ],
      "execution_count": null,
      "outputs": [
        {
          "output_type": "stream",
          "text": [
            "792442\n",
            "792442\n"
          ],
          "name": "stdout"
        }
      ]
    },
    {
      "cell_type": "code",
      "metadata": {
        "id": "T70f_1neKgRx",
        "colab": {
          "base_uri": "https://localhost:8080/"
        },
        "outputId": "7b19127f-cefe-483a-d180-d1ba402ea8ee"
      },
      "source": [
        "history4 = evaluate(model4, val_dl)\n",
        "history4"
      ],
      "execution_count": null,
      "outputs": [
        {
          "output_type": "stream",
          "text": [
            "/usr/local/lib/python3.7/dist-packages/torch/nn/modules/container.py:139: UserWarning: Implicit dimension choice for softmax has been deprecated. Change the call to include dim=X as an argument.\n",
            "  input = module(input)\n"
          ],
          "name": "stderr"
        },
        {
          "output_type": "execute_result",
          "data": {
            "text/plain": [
              "{'val_acc': 0.09694138914346695, 'val_loss': 2.3029422760009766}"
            ]
          },
          "metadata": {},
          "execution_count": 50
        }
      ]
    },
    {
      "cell_type": "code",
      "metadata": {
        "id": "2yQa4bkyKpsf",
        "colab": {
          "base_uri": "https://localhost:8080/"
        },
        "outputId": "8791a4d9-9af0-43e0-cf05-db50882370c9"
      },
      "source": [
        "%%time\n",
        "history4 = fit(num_epochs, lr, model4, train_dl, val_dl, opt_func)"
      ],
      "execution_count": null,
      "outputs": [
        {
          "output_type": "stream",
          "text": [
            "/usr/local/lib/python3.7/dist-packages/torch/nn/modules/container.py:139: UserWarning: Implicit dimension choice for softmax has been deprecated. Change the call to include dim=X as an argument.\n",
            "  input = module(input)\n"
          ],
          "name": "stderr"
        },
        {
          "output_type": "stream",
          "text": [
            "Epoch [0], train_loss: 1.7247, val_loss: 1.5846, val_acc: 0.8847\n",
            "Epoch [1], train_loss: 1.5708, val_loss: 1.5813, val_acc: 0.8854\n",
            "Epoch [2], train_loss: 1.5564, val_loss: 1.5593, val_acc: 0.9064\n",
            "Epoch [3], train_loss: 1.5478, val_loss: 1.5370, val_acc: 0.9273\n",
            "Epoch [4], train_loss: 1.5414, val_loss: 1.5341, val_acc: 0.9289\n",
            "Epoch [5], train_loss: 1.5369, val_loss: 1.5387, val_acc: 0.9245\n",
            "Epoch [6], train_loss: 1.5334, val_loss: 1.5263, val_acc: 0.9372\n",
            "Epoch [7], train_loss: 1.5308, val_loss: 1.5247, val_acc: 0.9379\n",
            "Epoch [8], train_loss: 1.5280, val_loss: 1.5233, val_acc: 0.9395\n",
            "Epoch [9], train_loss: 1.5255, val_loss: 1.5277, val_acc: 0.9340\n",
            "CPU times: user 12min 59s, sys: 1min 23s, total: 14min 22s\n",
            "Wall time: 14min 22s\n"
          ],
          "name": "stdout"
        }
      ]
    },
    {
      "cell_type": "code",
      "metadata": {
        "id": "OGyWUlevLLta",
        "colab": {
          "base_uri": "https://localhost:8080/",
          "height": 295
        },
        "outputId": "856e6112-38fa-4b41-dea9-c1119b28057c"
      },
      "source": [
        "plot_accuracies(history4)"
      ],
      "execution_count": null,
      "outputs": [
        {
          "output_type": "display_data",
          "data": {
            "image/png": "[encoded data removed]",
            "text/plain": [
              "<Figure size 432x288 with 1 Axes>"
            ]
          },
          "metadata": {
            "needs_background": "light"
          }
        }
      ]
    },
    {
      "cell_type": "code",
      "metadata": {
        "id": "roaCTHijLR1J",
        "colab": {
          "base_uri": "https://localhost:8080/",
          "height": 295
        },
        "outputId": "f37d062a-ad70-4692-d1c5-a92a0dc7151e"
      },
      "source": [
        "plot_losses(history4)"
      ],
      "execution_count": null,
      "outputs": [
        {
          "output_type": "display_data",
          "data": {
            "image/png": "[encoded data removed]",
            "text/plain": [
              "<Figure size 432x288 with 1 Axes>"
            ]
          },
          "metadata": {
            "needs_background": "light"
          }
        }
      ]
    },
    {
      "cell_type": "code",
      "metadata": {
        "id": "n5RkJUqWw3K1"
      },
      "source": [
        "torch.save(model4.state_dict(), 'svhn_cnn.pth')"
      ],
      "execution_count": null,
      "outputs": []
    },
    {
      "cell_type": "markdown",
      "metadata": {
        "id": "HOsmkKos2SM1"
      },
      "source": [
        "## ResNet"
      ]
    },
    {
      "cell_type": "code",
      "metadata": {
        "id": "nNt67OYHivQn"
      },
      "source": [
        "def conv_block(in_channels, out_channels, pool=False):\n",
        "    layers = [nn.Conv2d(in_channels, out_channels, kernel_size=3, padding=1), \n",
        "              nn.BatchNorm2d(out_channels), \n",
        "              nn.ReLU(inplace=True)]\n",
        "    if pool: layers.append(nn.MaxPool2d(2))\n",
        "    return nn.Sequential(*layers)\n",
        "\n",
        "class ResNet(ImageClassificationBase):\n",
        "    def __init__(self, in_channels, num_classes):\n",
        "        super().__init__()\n",
        "        \n",
        "        self.conv1 = conv_block(in_channels, 64)\n",
        "        self.conv2 = conv_block(64, 128, pool=True)\n",
        "        self.res1 = nn.Sequential(conv_block(128, 128), conv_block(128, 128))\n",
        "        \n",
        "        self.conv3 = conv_block(128, 256, pool=True)\n",
        "        self.conv4 = conv_block(256, 512, pool=True)\n",
        "        self.res2 = nn.Sequential(conv_block(512, 512), conv_block(512, 512))\n",
        "        \n",
        "        self.classifier = nn.Sequential(nn.MaxPool2d(3), \n",
        "                                        nn.Flatten(), \n",
        "                                        nn.Linear(512, num_classes))\n",
        "        \n",
        "    def forward(self, xb):\n",
        "        out = self.conv1(xb)\n",
        "        out = self.conv2(out)\n",
        "        out = self.res1(out) + out\n",
        "        out = self.conv3(out)\n",
        "        out = self.conv4(out)\n",
        "        out = self.res2(out) + out\n",
        "        out = self.classifier(out)\n",
        "        return out"
      ],
      "execution_count": null,
      "outputs": []
    },
    {
      "cell_type": "code",
      "metadata": {
        "id": "a2bPvi4IiydZ",
        "colab": {
          "base_uri": "https://localhost:8080/"
        },
        "outputId": "a50de432-47f4-46e4-ed67-b6f08fcc9f4f"
      },
      "source": [
        "model5 = to_device(ResNet(3, 10), device)\n",
        "model5"
      ],
      "execution_count": null,
      "outputs": [
        {
          "output_type": "execute_result",
          "data": {
            "text/plain": [
              "ResNet(\n",
              "  (conv1): Sequential(\n",
              "    (0): Conv2d(3, 64, kernel_size=(3, 3), stride=(1, 1), padding=(1, 1))\n",
              "    (1): BatchNorm2d(64, eps=1e-05, momentum=0.1, affine=True, track_running_stats=True)\n",
              "    (2): ReLU(inplace=True)\n",
              "  )\n",
              "  (conv2): Sequential(\n",
              "    (0): Conv2d(64, 128, kernel_size=(3, 3), stride=(1, 1), padding=(1, 1))\n",
              "    (1): BatchNorm2d(128, eps=1e-05, momentum=0.1, affine=True, track_running_stats=True)\n",
              "    (2): ReLU(inplace=True)\n",
              "    (3): MaxPool2d(kernel_size=2, stride=2, padding=0, dilation=1, ceil_mode=False)\n",
              "  )\n",
              "  (res1): Sequential(\n",
              "    (0): Sequential(\n",
              "      (0): Conv2d(128, 128, kernel_size=(3, 3), stride=(1, 1), padding=(1, 1))\n",
              "      (1): BatchNorm2d(128, eps=1e-05, momentum=0.1, affine=True, track_running_stats=True)\n",
              "      (2): ReLU(inplace=True)\n",
              "    )\n",
              "    (1): Sequential(\n",
              "      (0): Conv2d(128, 128, kernel_size=(3, 3), stride=(1, 1), padding=(1, 1))\n",
              "      (1): BatchNorm2d(128, eps=1e-05, momentum=0.1, affine=True, track_running_stats=True)\n",
              "      (2): ReLU(inplace=True)\n",
              "    )\n",
              "  )\n",
              "  (conv3): Sequential(\n",
              "    (0): Conv2d(128, 256, kernel_size=(3, 3), stride=(1, 1), padding=(1, 1))\n",
              "    (1): BatchNorm2d(256, eps=1e-05, momentum=0.1, affine=True, track_running_stats=True)\n",
              "    (2): ReLU(inplace=True)\n",
              "    (3): MaxPool2d(kernel_size=2, stride=2, padding=0, dilation=1, ceil_mode=False)\n",
              "  )\n",
              "  (conv4): Sequential(\n",
              "    (0): Conv2d(256, 512, kernel_size=(3, 3), stride=(1, 1), padding=(1, 1))\n",
              "    (1): BatchNorm2d(512, eps=1e-05, momentum=0.1, affine=True, track_running_stats=True)\n",
              "    (2): ReLU(inplace=True)\n",
              "    (3): MaxPool2d(kernel_size=2, stride=2, padding=0, dilation=1, ceil_mode=False)\n",
              "  )\n",
              "  (res2): Sequential(\n",
              "    (0): Sequential(\n",
              "      (0): Conv2d(512, 512, kernel_size=(3, 3), stride=(1, 1), padding=(1, 1))\n",
              "      (1): BatchNorm2d(512, eps=1e-05, momentum=0.1, affine=True, track_running_stats=True)\n",
              "      (2): ReLU(inplace=True)\n",
              "    )\n",
              "    (1): Sequential(\n",
              "      (0): Conv2d(512, 512, kernel_size=(3, 3), stride=(1, 1), padding=(1, 1))\n",
              "      (1): BatchNorm2d(512, eps=1e-05, momentum=0.1, affine=True, track_running_stats=True)\n",
              "      (2): ReLU(inplace=True)\n",
              "    )\n",
              "  )\n",
              "  (classifier): Sequential(\n",
              "    (0): MaxPool2d(kernel_size=3, stride=3, padding=0, dilation=1, ceil_mode=False)\n",
              "    (1): Flatten(start_dim=1, end_dim=-1)\n",
              "    (2): Linear(in_features=512, out_features=10, bias=True)\n",
              "  )\n",
              ")"
            ]
          },
          "metadata": {},
          "execution_count": 56
        }
      ]
    },
    {
      "cell_type": "code",
      "metadata": {
        "id": "zrbtx2RyyQl6",
        "colab": {
          "base_uri": "https://localhost:8080/"
        },
        "outputId": "730d1ce5-4668-43d6-e1b0-4cea565d67e0"
      },
      "source": [
        "summary(model5, input_size=(3, 28, 28))"
      ],
      "execution_count": null,
      "outputs": [
        {
          "output_type": "stream",
          "text": [
            "----------------------------------------------------------------\n",
            "        Layer (type)               Output Shape         Param #\n",
            "================================================================\n",
            "            Conv2d-1           [-1, 64, 28, 28]           1,792\n",
            "       BatchNorm2d-2           [-1, 64, 28, 28]             128\n",
            "              ReLU-3           [-1, 64, 28, 28]               0\n",
            "            Conv2d-4          [-1, 128, 28, 28]          73,856\n",
            "       BatchNorm2d-5          [-1, 128, 28, 28]             256\n",
            "              ReLU-6          [-1, 128, 28, 28]               0\n",
            "         MaxPool2d-7          [-1, 128, 14, 14]               0\n",
            "            Conv2d-8          [-1, 128, 14, 14]         147,584\n",
            "       BatchNorm2d-9          [-1, 128, 14, 14]             256\n",
            "             ReLU-10          [-1, 128, 14, 14]               0\n",
            "           Conv2d-11          [-1, 128, 14, 14]         147,584\n",
            "      BatchNorm2d-12          [-1, 128, 14, 14]             256\n",
            "             ReLU-13          [-1, 128, 14, 14]               0\n",
            "           Conv2d-14          [-1, 256, 14, 14]         295,168\n",
            "      BatchNorm2d-15          [-1, 256, 14, 14]             512\n",
            "             ReLU-16          [-1, 256, 14, 14]               0\n",
            "        MaxPool2d-17            [-1, 256, 7, 7]               0\n",
            "           Conv2d-18            [-1, 512, 7, 7]       1,180,160\n",
            "      BatchNorm2d-19            [-1, 512, 7, 7]           1,024\n",
            "             ReLU-20            [-1, 512, 7, 7]               0\n",
            "        MaxPool2d-21            [-1, 512, 3, 3]               0\n",
            "           Conv2d-22            [-1, 512, 3, 3]       2,359,808\n",
            "      BatchNorm2d-23            [-1, 512, 3, 3]           1,024\n",
            "             ReLU-24            [-1, 512, 3, 3]               0\n",
            "           Conv2d-25            [-1, 512, 3, 3]       2,359,808\n",
            "      BatchNorm2d-26            [-1, 512, 3, 3]           1,024\n",
            "             ReLU-27            [-1, 512, 3, 3]               0\n",
            "        MaxPool2d-28            [-1, 512, 1, 1]               0\n",
            "          Flatten-29                  [-1, 512]               0\n",
            "           Linear-30                   [-1, 10]           5,130\n",
            "================================================================\n",
            "Total params: 6,575,370\n",
            "Trainable params: 6,575,370\n",
            "Non-trainable params: 0\n",
            "----------------------------------------------------------------\n",
            "Input size (MB): 0.01\n",
            "Forward/backward pass size (MB): 6.86\n",
            "Params size (MB): 25.08\n",
            "Estimated Total Size (MB): 31.95\n",
            "----------------------------------------------------------------\n"
          ],
          "name": "stdout"
        }
      ]
    },
    {
      "cell_type": "code",
      "metadata": {
        "id": "PYS_LD33x9Us",
        "colab": {
          "base_uri": "https://localhost:8080/"
        },
        "outputId": "c55044b6-cbdc-4118-d77d-eb2514fd00dc"
      },
      "source": [
        "print(sum(p.numel() for p in model5.parameters()))\n",
        "print(sum(p.numel() for p in model5.parameters() if p.requires_grad))"
      ],
      "execution_count": null,
      "outputs": [
        {
          "output_type": "stream",
          "text": [
            "6575370\n",
            "6575370\n"
          ],
          "name": "stdout"
        }
      ]
    },
    {
      "cell_type": "code",
      "metadata": {
        "id": "86B81PxZi5zK"
      },
      "source": [
        "def get_lr(optimizer):\n",
        "    for param_group in optimizer.param_groups:\n",
        "        return param_group['lr']\n",
        "\n",
        "def fit_one_cycle(epochs, max_lr, model, train_loader, val_loader, \n",
        "                  weight_decay=0, grad_clip=None, opt_func=torch.optim.SGD):\n",
        "    torch.cuda.empty_cache()\n",
        "    history = []\n",
        "    \n",
        "    # Set up cutom optimizer with weight decay\n",
        "    optimizer = opt_func(model.parameters(), max_lr, weight_decay=weight_decay)\n",
        "    # Set up one-cycle learning rate scheduler\n",
        "    sched = torch.optim.lr_scheduler.OneCycleLR(optimizer, max_lr, epochs=epochs, \n",
        "                                                steps_per_epoch=len(train_loader))\n",
        "    \n",
        "    for epoch in range(epochs):\n",
        "        # Training Phase \n",
        "        model.train()\n",
        "        train_losses = []\n",
        "        lrs = []\n",
        "        for batch in train_loader:\n",
        "            loss = model.training_step(batch)\n",
        "            train_losses.append(loss)\n",
        "            loss.backward()\n",
        "            \n",
        "            # Gradient clipping\n",
        "            if grad_clip: \n",
        "                nn.utils.clip_grad_value_(model.parameters(), grad_clip)\n",
        "            \n",
        "            optimizer.step()\n",
        "            optimizer.zero_grad()\n",
        "            \n",
        "            # Record & update learning rate\n",
        "            lrs.append(get_lr(optimizer))\n",
        "            sched.step()\n",
        "        \n",
        "        # Validation phase\n",
        "        result = evaluate(model, val_loader)\n",
        "        result['train_loss'] = torch.stack(train_losses).mean().item()\n",
        "        result['lrs'] = lrs\n",
        "        model.epoch_end(epoch, result)\n",
        "        history.append(result)\n",
        "    return history"
      ],
      "execution_count": null,
      "outputs": []
    },
    {
      "cell_type": "code",
      "metadata": {
        "id": "XIS9ybUhjVR5",
        "colab": {
          "base_uri": "https://localhost:8080/"
        },
        "outputId": "a3532170-4da2-4cb3-8941-0830fba16859"
      },
      "source": [
        "history5 = [evaluate(model5, val_dl)]\n",
        "history5"
      ],
      "execution_count": null,
      "outputs": [
        {
          "output_type": "execute_result",
          "data": {
            "text/plain": [
              "[{'val_acc': 0.09577971696853638, 'val_loss': 2.3061537742614746}]"
            ]
          },
          "metadata": {},
          "execution_count": 60
        }
      ]
    },
    {
      "cell_type": "code",
      "metadata": {
        "id": "nteRieqpj6gH"
      },
      "source": [
        "grad_clip = 0.1\n",
        "weight_decay = 1e-4"
      ],
      "execution_count": null,
      "outputs": []
    },
    {
      "cell_type": "code",
      "metadata": {
        "id": "_jV77qQMj96Z",
        "colab": {
          "base_uri": "https://localhost:8080/"
        },
        "outputId": "80233bc6-52b4-43d5-940e-18453174028a"
      },
      "source": [
        "%%time\n",
        "history5 = fit_one_cycle(num_epochs, lr, model5, train_dl, val_dl, \n",
        "                             grad_clip=grad_clip, \n",
        "                             weight_decay=weight_decay, \n",
        "                             opt_func=opt_func)"
      ],
      "execution_count": null,
      "outputs": [
        {
          "output_type": "stream",
          "text": [
            "Epoch [0], train_loss: 0.7580, val_loss: 0.4104, val_acc: 0.8723\n",
            "Epoch [1], train_loss: 0.3137, val_loss: 0.3110, val_acc: 0.9098\n",
            "Epoch [2], train_loss: 0.2452, val_loss: 0.2744, val_acc: 0.9194\n",
            "Epoch [3], train_loss: 0.1905, val_loss: 0.2513, val_acc: 0.9289\n",
            "Epoch [4], train_loss: 0.1510, val_loss: 0.2249, val_acc: 0.9398\n",
            "Epoch [5], train_loss: 0.1080, val_loss: 0.2015, val_acc: 0.9435\n",
            "Epoch [6], train_loss: 0.0608, val_loss: 0.2012, val_acc: 0.9491\n",
            "Epoch [7], train_loss: 0.0205, val_loss: 0.1924, val_acc: 0.9532\n",
            "Epoch [8], train_loss: 0.0041, val_loss: 0.1822, val_acc: 0.9591\n",
            "Epoch [9], train_loss: 0.0019, val_loss: 0.1836, val_acc: 0.9585\n",
            "CPU times: user 14min 59s, sys: 8min 6s, total: 23min 6s\n",
            "Wall time: 23min 5s\n"
          ],
          "name": "stdout"
        }
      ]
    },
    {
      "cell_type": "markdown",
      "metadata": {
        "id": "-d2af0xZX0xm"
      },
      "source": [
        ""
      ]
    },
    {
      "cell_type": "code",
      "metadata": {
        "id": "BSZi5g81kR8W",
        "colab": {
          "base_uri": "https://localhost:8080/",
          "height": 295
        },
        "outputId": "8d5b6247-f4d6-4f75-b25f-bd65a822de5e"
      },
      "source": [
        "plot_accuracies(history5)"
      ],
      "execution_count": null,
      "outputs": [
        {
          "output_type": "display_data",
          "data": {
            "image/png": "[encoded data removed]",
            "text/plain": [
              "<Figure size 432x288 with 1 Axes>"
            ]
          },
          "metadata": {
            "needs_background": "light"
          }
        }
      ]
    },
    {
      "cell_type": "code",
      "metadata": {
        "id": "KR7M1RwakTI1",
        "colab": {
          "base_uri": "https://localhost:8080/",
          "height": 295
        },
        "outputId": "82011267-5f3e-41cd-fdf2-9276b13995ee"
      },
      "source": [
        "plot_losses(history5)"
      ],
      "execution_count": null,
      "outputs": [
        {
          "output_type": "display_data",
          "data": {
            "image/png": "[encoded data removed]",
            "text/plain": [
              "<Figure size 432x288 with 1 Axes>"
            ]
          },
          "metadata": {
            "needs_background": "light"
          }
        }
      ]
    },
    {
      "cell_type": "code",
      "metadata": {
        "id": "UWrJkfBfkbg1"
      },
      "source": [
        "def plot_lrs(history):\n",
        "    lrs = np.concatenate([x.get('lrs', []) for x in history])\n",
        "    plt.plot(lrs)\n",
        "    plt.xlabel('Batch no.')\n",
        "    plt.ylabel('Learning rate')\n",
        "    plt.title('Learning Rate vs. Batch no.');"
      ],
      "execution_count": null,
      "outputs": []
    },
    {
      "cell_type": "code",
      "metadata": {
        "id": "gYnmD41TkcYZ",
        "colab": {
          "base_uri": "https://localhost:8080/",
          "height": 295
        },
        "outputId": "b42b60c8-0c59-4c67-a289-a807543310a5"
      },
      "source": [
        "plot_lrs(history5)"
      ],
      "execution_count": null,
      "outputs": [
        {
          "output_type": "display_data",
          "data": {
            "image/png": "[encoded data removed]",
            "text/plain": [
              "<Figure size 432x288 with 1 Axes>"
            ]
          },
          "metadata": {
            "needs_background": "light"
          }
        }
      ]
    },
    {
      "cell_type": "code",
      "metadata": {
        "id": "0R6VKbotwu1e"
      },
      "source": [
        "torch.save(model5.state_dict(), 'svhn_resnet9.pth')"
      ],
      "execution_count": null,
      "outputs": []
    },
    {
      "cell_type": "markdown",
      "metadata": {
        "id": "-cDDtTXPCUYe"
      },
      "source": [
        "### Results"
      ]
    },
    {
      "cell_type": "code",
      "metadata": {
        "id": "4NlXrKfh9FN1",
        "colab": {
          "base_uri": "https://localhost:8080/"
        },
        "outputId": "813f9bdb-a823-4eba-c1e9-2bc621d7bb6c"
      },
      "source": [
        "result1 = evaluate(model1, test_dl)\n",
        "print(result1)\n",
        "result2 = evaluate(model2, val_dl)\n",
        "print(result2)\n",
        "result3 = evaluate(model3, val_dl)\n",
        "print(result3)\n",
        "result4 = evaluate(model4, val_dl)\n",
        "print(result4)\n",
        "result5 = evaluate(model5, val_dl)\n",
        "print(result5)"
      ],
      "execution_count": null,
      "outputs": [
        {
          "output_type": "stream",
          "text": [
            "{'val_loss': 2.3306710720062256, 'val_acc': 0.22741778194904327}\n",
            "{'val_loss': 1.0319267511367798, 'val_acc': 0.7040185332298279}\n",
            "{'val_loss': 0.20480583608150482, 'val_acc': 0.948095440864563}\n"
          ],
          "name": "stdout"
        },
        {
          "output_type": "stream",
          "text": [
            "/usr/local/lib/python3.7/dist-packages/torch/nn/modules/container.py:139: UserWarning: Implicit dimension choice for softmax has been deprecated. Change the call to include dim=X as an argument.\n",
            "  input = module(input)\n"
          ],
          "name": "stderr"
        },
        {
          "output_type": "stream",
          "text": [
            "{'val_loss': 1.527657389640808, 'val_acc': 0.9340277314186096}\n",
            "{'val_loss': 0.18436431884765625, 'val_acc': 0.9584355354309082}\n"
          ],
          "name": "stdout"
        }
      ]
    },
    {
      "cell_type": "markdown",
      "metadata": {
        "id": "1RMGBE9RCWCs"
      },
      "source": [
        "## Summary\n",
        "References:\n",
        "Yuval Netzer, Tao Wang, Adam Coates, Alessandro Bissacco, Bo Wu, Andrew Y. Ng Reading Digits in Natural Images with Unsupervised Feature Learning NIPS Workshop on Deep Learning and Unsupervised Feature Learning 2011. ( [PDF](http://ufldl.stanford.edu/housenumbers/nips2011_housenumbers.pdf))"
      ]
    },
    {
      "cell_type": "code",
      "metadata": {
        "id": "xahfxaIMWDua"
      },
      "source": [
        ""
      ],
      "execution_count": null,
      "outputs": []
    }
  ]
}